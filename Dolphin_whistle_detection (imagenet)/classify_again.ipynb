{
 "cells": [
  {
   "cell_type": "code",
   "execution_count": 1,
   "metadata": {},
   "outputs": [
    {
     "ename": "NameError",
     "evalue": "name 'os' is not defined",
     "output_type": "error",
     "traceback": [
      "\u001b[0;31m---------------------------------------------------------------------------\u001b[0m",
      "\u001b[0;31mNameError\u001b[0m                                 Traceback (most recent call last)",
      "Cell \u001b[0;32mIn[1], line 13\u001b[0m\n\u001b[1;32m      8\u001b[0m positive_dir \u001b[38;5;241m=\u001b[39m \u001b[38;5;124m\"\u001b[39m\u001b[38;5;124m/media/DOLPHIN_ALEXIS/Analyses_alexis/dataset/_last/DNN/positive\u001b[39m\u001b[38;5;124m\"\u001b[39m\n\u001b[1;32m      9\u001b[0m negative_dir \u001b[38;5;241m=\u001b[39m \u001b[38;5;124m\"\u001b[39m\u001b[38;5;124m/media/DOLPHIN_ALEXIS/Analyses_alexis/dataset/_last/DNN/negative\u001b[39m\u001b[38;5;124m\"\u001b[39m\n\u001b[0;32m---> 13\u001b[0m \u001b[38;5;28;01mif\u001b[39;00m \u001b[38;5;129;01mnot\u001b[39;00m \u001b[43mos\u001b[49m\u001b[38;5;241m.\u001b[39mpath\u001b[38;5;241m.\u001b[39mexists(positive_dir):\n\u001b[1;32m     14\u001b[0m     os\u001b[38;5;241m.\u001b[39mmakedirs(positive_dir)\n\u001b[1;32m     15\u001b[0m \u001b[38;5;28;01mif\u001b[39;00m \u001b[38;5;129;01mnot\u001b[39;00m os\u001b[38;5;241m.\u001b[39mpath\u001b[38;5;241m.\u001b[39mexists(negative_dir):\n",
      "\u001b[0;31mNameError\u001b[0m: name 'os' is not defined"
     ]
    }
   ],
   "source": [
    "import sys\n",
    "import os\n",
    "sys.path.append('/Dolphins/DNN_whistle_detection/')\n",
    "from utility_script import *\n",
    "\n",
    "#********************* MAIN\n",
    "model_path = \"DNN_whistle_detection/models/model_vgg.h5\"\n",
    "images_path = \"/media/DOLPHIN_ALEXIS/Analyses_alexis/dataset/_last/positives/\"\n",
    "positive_dir = \"/media/DOLPHIN_ALEXIS/Analyses_alexis/dataset/_last/DNN/positive\"\n",
    "negative_dir = \"/media/DOLPHIN_ALEXIS/Analyses_alexis/dataset/_last/DNN/negative\"\n",
    "\n",
    "\n",
    "\n",
    "if not os.path.exists(positive_dir):\n",
    "    os.makedirs(positive_dir)\n",
    "if not os.path.exists(negative_dir):\n",
    "    os.makedirs(negative_dir)\n",
    "csv_path = \"/kaggle/working/tests/whistles.csv\"\n",
    "\n",
    "# the model\n",
    "model = tf.keras.models.load_model(model_path)\n",
    "\n",
    "# paths of all files\n",
    "all_files_path = [f for f in os.listdir(images_path) if isfile(join(images_path, f))]\n",
    "\n",
    "# lists to store data\n",
    "record_names = []\n",
    "positive_initial = []\n",
    "positive_finish = []\n",
    "class_1_scores = []\n",
    "\n",
    "# all predictions results\n",
    "predictions = []\n",
    "\n",
    "# reading file paths 1 by 1\n",
    "for file_path in all_files_path:\n",
    "    \n",
    "    # prediction on the given image\n",
    "    prediction = predict(model, images_path, file_path)\n",
    "    # prediction_1= predict(model_paper, images_path, file_path)\n",
    "    predictions.append([file_path, prediction])\n",
    "    \n",
    "    # if the class 1 has higher confidence than class 0\n",
    "    if (prediction[0][1] > prediction[0][0]):\n",
    "        \n",
    "        # carry the positive image to its folder.\n",
    "        move_file(images_path, file_path, positive_dir)\n",
    "        \n",
    "        # storing the positive images confidences\n",
    "        class_1_scores.append(prediction[0][1])\n",
    "        \n",
    "        # preparing arrays for the csv\n",
    "        record_names, positive_initial, positive_finish = prepare_csv_data(file_path,\n",
    "                                                                           record_names,\n",
    "                                                                           positive_initial,\n",
    "                                                                           positive_finish)\n",
    "    else:\n",
    "        pass\n",
    "        # carry the negative image to its folder.\n",
    "        move_file(images_path, file_path, negative_dir)\n",
    "        \n",
    "    \n",
    "\n",
    "#saving the csv\n",
    "save_csv(record_names, positive_initial, positive_finish, class_1_scores, csv_path)"
   ]
  }
 ],
 "metadata": {
  "kernelspec": {
   "display_name": "base",
   "language": "python",
   "name": "python3"
  },
  "language_info": {
   "codemirror_mode": {
    "name": "ipython",
    "version": 3
   },
   "file_extension": ".py",
   "mimetype": "text/x-python",
   "name": "python",
   "nbconvert_exporter": "python",
   "pygments_lexer": "ipython3",
   "version": "3.11.5"
  }
 },
 "nbformat": 4,
 "nbformat_minor": 2
}
