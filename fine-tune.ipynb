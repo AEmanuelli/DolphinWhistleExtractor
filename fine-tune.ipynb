{
 "cells": [
  {
   "cell_type": "code",
   "execution_count": 1,
   "id": "be04f986",
   "metadata": {
    "_cell_guid": "b1076dfc-b9ad-4769-8c92-a6c4dae69d19",
    "_uuid": "8f2839f25d086af736a60e9eeb907d3b93b6e0e5",
    "execution": {
     "iopub.execute_input": "2024-05-16T10:09:38.269456Z",
     "iopub.status.busy": "2024-05-16T10:09:38.268415Z",
     "iopub.status.idle": "2024-05-16T10:10:11.619866Z",
     "shell.execute_reply": "2024-05-16T10:10:11.618868Z"
    },
    "papermill": {
     "duration": 33.359517,
     "end_time": "2024-05-16T10:10:11.622528",
     "exception": false,
     "start_time": "2024-05-16T10:09:38.263011",
     "status": "completed"
    },
    "tags": []
   },
   "outputs": [
    {
     "name": "stdout",
     "output_type": "stream",
     "text": [
      "Collecting keras==2.15.0\r\n",
      "  Downloading keras-2.15.0-py3-none-any.whl.metadata (2.4 kB)\r\n",
      "Downloading keras-2.15.0-py3-none-any.whl (1.7 MB)\r\n",
      "\u001b[2K   \u001b[90m━━━━━━━━━━━━━━━━━━━━━━━━━━━━━━━━━━━━━━━━\u001b[0m \u001b[32m1.7/1.7 MB\u001b[0m \u001b[31m20.2 MB/s\u001b[0m eta \u001b[36m0:00:00\u001b[0m\r\n",
      "\u001b[?25hInstalling collected packages: keras\r\n",
      "  Attempting uninstall: keras\r\n",
      "    Found existing installation: keras 3.2.1\r\n",
      "    Uninstalling keras-3.2.1:\r\n",
      "      Successfully uninstalled keras-3.2.1\r\n",
      "\u001b[31mERROR: pip's dependency resolver does not currently take into account all the packages that are installed. This behaviour is the source of the following dependency conflicts.\r\n",
      "tensorflow-decision-forests 1.8.1 requires wurlitzer, which is not installed.\u001b[0m\u001b[31m\r\n",
      "\u001b[0mSuccessfully installed keras-2.15.0\r\n"
     ]
    },
    {
     "name": "stderr",
     "output_type": "stream",
     "text": [
      "2024-05-16 10:10:00.521829: E external/local_xla/xla/stream_executor/cuda/cuda_dnn.cc:9261] Unable to register cuDNN factory: Attempting to register factory for plugin cuDNN when one has already been registered\n",
      "2024-05-16 10:10:00.521951: E external/local_xla/xla/stream_executor/cuda/cuda_fft.cc:607] Unable to register cuFFT factory: Attempting to register factory for plugin cuFFT when one has already been registered\n",
      "2024-05-16 10:10:00.654766: E external/local_xla/xla/stream_executor/cuda/cuda_blas.cc:1515] Unable to register cuBLAS factory: Attempting to register factory for plugin cuBLAS when one has already been registered\n"
     ]
    }
   ],
   "source": [
    "!pip install keras==2.15.0\n",
    "#Import Os and Basis Libraries\n",
    "import cv2\n",
    "import os\n",
    "import pandas as pd\n",
    "import numpy as np\n",
    "import seaborn as sns\n",
    "import matplotlib.pyplot as plt \n",
    "import plotly.graph_objects as go\n",
    "#Matplot Images\n",
    "import matplotlib.image as mpimg\n",
    "# Tensflor and Keras Layer and Model and Optimize and Loss\n",
    "import tensorflow as tf\n",
    "from tensorflow import keras\n",
    "from keras import Sequential\n",
    "from keras.layers import *\n",
    "from tensorflow.keras.losses import BinaryCrossentropy\n",
    "# import tensorflow_hub as hub\n",
    "import optuna\n",
    "from tensorflow.keras.layers import GlobalAveragePooling2D, Dropout\n",
    "from tensorflow.keras.optimizers import Adam, RMSprop, SGD\n",
    "from tensorflow.keras.applications import ResNet50, InceptionV3, Xception, VGG16\n",
    "from tensorflow.keras.layers import Dense\n",
    "import numpy as np\n",
    "#Image Generator DataAugmentation\n",
    "from tensorflow.keras.preprocessing.image import ImageDataGenerator\n",
    "from keras.preprocessing import image\n",
    "#Early Stopping\n",
    "from tensorflow.keras.callbacks import EarlyStopping\n",
    "# Warnings Remove \n",
    "import warnings \n",
    "warnings.filterwarnings(\"ignore\")\n"
   ]
  },
  {
   "cell_type": "code",
   "execution_count": 2,
   "id": "7c11f2d1",
   "metadata": {
    "execution": {
     "iopub.execute_input": "2024-05-16T10:10:11.633529Z",
     "iopub.status.busy": "2024-05-16T10:10:11.632834Z",
     "iopub.status.idle": "2024-05-16T10:10:13.966171Z",
     "shell.execute_reply": "2024-05-16T10:10:13.964828Z"
    },
    "papermill": {
     "duration": 2.341372,
     "end_time": "2024-05-16T10:10:13.968693",
     "exception": false,
     "start_time": "2024-05-16T10:10:11.627321",
     "status": "completed"
    },
    "tags": []
   },
   "outputs": [
    {
     "name": "stdout",
     "output_type": "stream",
     "text": [
      "                          filename   category\n",
      "0  Exp_12_Jan_2020_1545pm-49.2.jpg  negatives\n",
      "1  Exp_07_Dec_2019_1345pm-29.2.jpg  negatives\n",
      "2  Exp_05_Feb_2020_0945am-30.4.jpg  negatives\n",
      "3  Exp_27_Nov_2019_1545pm-40.4.jpg  negatives\n",
      "4  Exp_01_Feb_2020_1145am-32.8.jpg  negatives\n"
     ]
    }
   ],
   "source": [
    "# Directory containing the \"Train\" folder\n",
    "directory = \"/kaggle/input/whistles-baby-hit-me-up/media/DOLPHIN_ALEXIS/Analyses_alexis/dataset/_last/tests\"\n",
    "\n",
    "# List of categories (subfolder names)\n",
    "categories = [\"negatives\", \"positives\"]\n",
    "\n",
    "# Initialize lists to store filenames and categories\n",
    "filenames = []\n",
    "category_labels = []\n",
    "\n",
    "# Iterate through the categories\n",
    "for category in categories:\n",
    "    # Path to the current category folder\n",
    "    category_folder = os.path.join(directory, \"train\", category)\n",
    "    # List all filenames in the category folder\n",
    "    category_filenames = os.listdir(category_folder)\n",
    "    # Append filenames and corresponding category labels\n",
    "    filenames.extend(category_filenames)\n",
    "    category_labels.extend([category] * len(category_filenames))\n",
    "\n",
    "# Create DataFrame\n",
    "df = pd.DataFrame({\n",
    "    'filename': filenames,\n",
    "    'category': category_labels\n",
    "})\n",
    "\n",
    "# Display the first few rows of the DataFrame\n",
    "print(df.head())"
   ]
  },
  {
   "cell_type": "code",
   "execution_count": 3,
   "id": "39d30ab3",
   "metadata": {
    "execution": {
     "iopub.execute_input": "2024-05-16T10:10:13.979580Z",
     "iopub.status.busy": "2024-05-16T10:10:13.979204Z",
     "iopub.status.idle": "2024-05-16T10:10:55.623969Z",
     "shell.execute_reply": "2024-05-16T10:10:55.623062Z"
    },
    "papermill": {
     "duration": 41.652999,
     "end_time": "2024-05-16T10:10:55.626311",
     "exception": false,
     "start_time": "2024-05-16T10:10:13.973312",
     "status": "completed"
    },
    "tags": []
   },
   "outputs": [
    {
     "name": "stdout",
     "output_type": "stream",
     "text": [
      "Augmented training Images:\n",
      "Found 19863 images belonging to 2 classes.\n",
      "Unchanged Validation Images:\n",
      "Found 4964 images belonging to 2 classes.\n",
      "Test Validation Images:\n",
      "Found 1022 images belonging to 2 classes.\n"
     ]
    }
   ],
   "source": [
    "#Data_Dir\n",
    "data_dir = '/kaggle/input/whistles-baby-hit-me-up/media/DOLPHIN_ALEXIS/Analyses_alexis/dataset/_last/tests/train/'\n",
    "\n",
    "# Defining data generator with Data Augmentation\n",
    "data_gen_augmented = ImageDataGenerator(rescale = 1/255., validation_split = 0.2)\n",
    "\n",
    "print('Augmented training Images:')\n",
    "train_ds = data_gen_augmented.flow_from_directory(data_dir, \n",
    "                                                              target_size = (224, 224), \n",
    "                                                              batch_size = 32,\n",
    "                                                              subset = 'training',\n",
    "                                                              class_mode = 'categorical')\n",
    "\n",
    "#Testing Augmented Data\n",
    "# Defining Validation_generator withour Data Augmentation\n",
    "data_gen = ImageDataGenerator(rescale = 1/255., validation_split = 0.2)\n",
    "\n",
    "print('Unchanged Validation Images:')\n",
    "validation_ds = data_gen.flow_from_directory(data_dir, \n",
    "                                        target_size = (224, 224), \n",
    "                                        batch_size = 32,\n",
    "                                        subset = 'validation',\n",
    "                                        class_mode = 'categorical')\n",
    "\n",
    "#Testing Augmented Data\n",
    "test_dir_path = \"/kaggle/input/whistles-baby-hit-me-up/media/DOLPHIN_ALEXIS/Analyses_alexis/dataset/_last/tests/test\"\n",
    "# Defining Validation_generator withour Data Augmentation\n",
    "data_test_gen = ImageDataGenerator(rescale = 1/255.)\n",
    "\n",
    "print('Test Validation Images:')\n",
    "test_ds = data_gen.flow_from_directory(test_dir_path, \n",
    "                                        target_size = (224, 224), \n",
    "                                        batch_size = 32,\n",
    "                                        subset = 'validation',\n",
    "                                        class_mode = 'categorical')"
   ]
  },
  {
   "cell_type": "code",
   "execution_count": null,
   "id": "8eeab20b",
   "metadata": {
    "papermill": {
     "duration": 0.004793,
     "end_time": "2024-05-16T10:10:55.636208",
     "exception": false,
     "start_time": "2024-05-16T10:10:55.631415",
     "status": "completed"
    },
    "tags": []
   },
   "outputs": [],
   "source": []
  },
  {
   "cell_type": "code",
   "execution_count": 4,
   "id": "11f73ec2",
   "metadata": {
    "execution": {
     "iopub.execute_input": "2024-05-16T10:10:55.647558Z",
     "iopub.status.busy": "2024-05-16T10:10:55.647212Z",
     "iopub.status.idle": "2024-05-16T10:10:55.655547Z",
     "shell.execute_reply": "2024-05-16T10:10:55.654653Z"
    },
    "papermill": {
     "duration": 0.017022,
     "end_time": "2024-05-16T10:10:55.657989",
     "exception": false,
     "start_time": "2024-05-16T10:10:55.640967",
     "status": "completed"
    },
    "tags": []
   },
   "outputs": [
    {
     "data": {
      "text/plain": [
       "'history = model_paper.fit(train_ds,\\n                        epochs= 15,\\n                        steps_per_epoch = len(train_ds),\\n                        validation_data = validation_ds,\\n                        validation_steps = len(validation_ds),\\n                        callbacks = early_stopping)'"
      ]
     },
     "execution_count": 4,
     "metadata": {},
     "output_type": "execute_result"
    }
   ],
   "source": [
    "#model_paper = tf.keras.models.load_model(\"/kaggle/input/cnn_v1_xception/tensorflow2/initial_model/1/model_vgg.h5\") #tf & keras ==2.15.0\n",
    "\n",
    "#Early_Stopping\n",
    "early_stopping = EarlyStopping(\n",
    "    min_delta=0.001, # minimium amount of change to count as an improvement\n",
    "    patience=5, \n",
    "    restore_best_weights=True,\n",
    ")\n",
    "\n",
    "#Fitting Model\n",
    "\"\"\"history = model_paper.fit(train_ds,\n",
    "                        epochs= 15,\n",
    "                        steps_per_epoch = len(train_ds),\n",
    "                        validation_data = validation_ds,\n",
    "                        validation_steps = len(validation_ds),\n",
    "                        callbacks = early_stopping)\"\"\""
   ]
  },
  {
   "cell_type": "code",
   "execution_count": 5,
   "id": "f830dcab",
   "metadata": {
    "execution": {
     "iopub.execute_input": "2024-05-16T10:10:55.669609Z",
     "iopub.status.busy": "2024-05-16T10:10:55.669318Z",
     "iopub.status.idle": "2024-05-16T10:11:00.393619Z",
     "shell.execute_reply": "2024-05-16T10:11:00.392497Z"
    },
    "papermill": {
     "duration": 4.73313,
     "end_time": "2024-05-16T10:11:00.396295",
     "exception": false,
     "start_time": "2024-05-16T10:10:55.663165",
     "status": "completed"
    },
    "tags": []
   },
   "outputs": [],
   "source": [
    "#model_paper.save(\"kaggle/working/model_finetuned_vgg.h5\")\n",
    "model_paper= tf.keras.models.load_model(\"/kaggle/input/cnn_v1_xception/tensorflow2/model_initial_finetuned_95acc/1/model_finetuned_vgg.h5\")"
   ]
  },
  {
   "cell_type": "code",
   "execution_count": 6,
   "id": "97e71156",
   "metadata": {
    "execution": {
     "iopub.execute_input": "2024-05-16T10:11:00.409041Z",
     "iopub.status.busy": "2024-05-16T10:11:00.408675Z",
     "iopub.status.idle": "2024-05-16T10:46:56.563834Z",
     "shell.execute_reply": "2024-05-16T10:46:56.562573Z"
    },
    "papermill": {
     "duration": 2156.16483,
     "end_time": "2024-05-16T10:46:56.566726",
     "exception": false,
     "start_time": "2024-05-16T10:11:00.401896",
     "status": "completed"
    },
    "tags": []
   },
   "outputs": [],
   "source": [
    "import sys\n",
    "sys.path.append('/kaggle/input/')\n",
    "from utility_script import *\n",
    "\n",
    "#********************* MAIN\n",
    "model_path = \"/kaggle/input/cnn_v1_xception/tensorflow2/initial_model/1/model_vgg.h5\"\n",
    "images_path = \"/kaggle/input/whistles-baby-hit-me-up/media/DOLPHIN_ALEXIS/Analyses_alexis/dataset/_last/tests/train/negatives\"\n",
    "positive_dir = \"/kaggle/working/tests/train/negatives/train/negatives/positive\"\n",
    "negative_dir = \"/kaggle/working/tests/train/negatives/train/negatives/negative\"\n",
    "if not os.path.exists(positive_dir):\n",
    "    os.makedirs(positive_dir)\n",
    "if not os.path.exists(negative_dir):\n",
    "    os.makedirs(negative_dir)\n",
    "csv_path = \"/kaggle/working/tests/whistles.csv\"\n",
    "\n",
    "# the model\n",
    "model = tf.keras.models.load_model(model_path)\n",
    "\n",
    "# paths of all files\n",
    "all_files_path = [f for f in os.listdir(images_path) if isfile(join(images_path, f))]\n",
    "\n",
    "# lists to store data\n",
    "record_names = []\n",
    "positive_initial = []\n",
    "positive_finish = []\n",
    "class_1_scores = []\n",
    "\n",
    "# all predictions results\n",
    "predictions = []\n",
    "\n",
    "# reading file paths 1 by 1\n",
    "for file_path in all_files_path:\n",
    "    \n",
    "    # prediction on the given image\n",
    "    prediction = predict(model, images_path, file_path)\n",
    "    prediction_1= predict(model_paper, images_path, file_path)\n",
    "    predictions.append([file_path, prediction, prediction_1])\n",
    "    \n",
    "    # if the class 1 has higher confidence than class 0\n",
    "    if (prediction[0][1] > prediction[0][0]):\n",
    "        \n",
    "        # carry the positive image to its folder.\n",
    "        copy_file(images_path, file_path, positive_dir)\n",
    "        \n",
    "        # storing the positive images confidences\n",
    "        class_1_scores.append((prediction[0][1],prediction_1[0][1]))\n",
    "        \n",
    "        # preparing arrays for the csv\n",
    "        record_names, positive_initial, positive_finish = prepare_csv_data(file_path,\n",
    "                                                                           record_names,\n",
    "                                                                           positive_initial,\n",
    "                                                                           positive_finish)\n",
    "    else:\n",
    "        pass\n",
    "        # carry the negative image to its folder.\n",
    "        #copy_file(images_path, file_path, negative_dir)\n",
    "        \n",
    "    \n",
    "\n",
    "#saving the csv\n",
    "save_csv(record_names, positive_initial, positive_finish, class_1_scores, csv_path)"
   ]
  },
  {
   "cell_type": "code",
   "execution_count": null,
   "id": "02022634",
   "metadata": {
    "papermill": {
     "duration": 0.004663,
     "end_time": "2024-05-16T10:46:56.577048",
     "exception": false,
     "start_time": "2024-05-16T10:46:56.572385",
     "status": "completed"
    },
    "tags": []
   },
   "outputs": [],
   "source": []
  }
 ],
 "metadata": {
  "kaggle": {
   "accelerator": "gpu",
   "dataSources": [
    {
     "datasetId": 4911901,
     "sourceId": 8272602,
     "sourceType": "datasetVersion"
    },
    {
     "sourceId": 177975177,
     "sourceType": "kernelVersion"
    },
    {
     "modelInstanceId": 38718,
     "sourceId": 46185,
     "sourceType": "modelInstanceVersion"
    },
    {
     "modelInstanceId": 40717,
     "sourceId": 48683,
     "sourceType": "modelInstanceVersion"
    },
    {
     "modelInstanceId": 38718,
     "sourceId": 48685,
     "sourceType": "modelInstanceVersion"
    },
    {
     "sourceId": 177978025,
     "sourceType": "kernelVersion"
    }
   ],
   "dockerImageVersionId": 30699,
   "isGpuEnabled": true,
   "isInternetEnabled": true,
   "language": "python",
   "sourceType": "notebook"
  },
  "kernelspec": {
   "display_name": "Python 3",
   "language": "python",
   "name": "python3"
  },
  "language_info": {
   "codemirror_mode": {
    "name": "ipython",
    "version": 3
   },
   "file_extension": ".py",
   "mimetype": "text/x-python",
   "name": "python",
   "nbconvert_exporter": "python",
   "pygments_lexer": "ipython3",
   "version": "3.10.13"
  },
  "papermill": {
   "default_parameters": {},
   "duration": 2244.36078,
   "end_time": "2024-05-16T10:46:59.464093",
   "environment_variables": {},
   "exception": null,
   "input_path": "__notebook__.ipynb",
   "output_path": "__notebook__.ipynb",
   "parameters": {},
   "start_time": "2024-05-16T10:09:35.103313",
   "version": "2.5.0"
  }
 },
 "nbformat": 4,
 "nbformat_minor": 5
}
