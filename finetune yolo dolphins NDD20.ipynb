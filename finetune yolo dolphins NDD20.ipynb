{
 "cells": [
  {
   "cell_type": "code",
   "execution_count": 1,
   "id": "c01c10e0",
   "metadata": {
    "execution": {
     "iopub.execute_input": "2024-06-08T10:26:31.859713Z",
     "iopub.status.busy": "2024-06-08T10:26:31.859326Z",
     "iopub.status.idle": "2024-06-08T10:26:39.394656Z",
     "shell.execute_reply": "2024-06-08T10:26:39.393642Z"
    },
    "papermill": {
     "duration": 7.542048,
     "end_time": "2024-06-08T10:26:39.396985",
     "exception": false,
     "start_time": "2024-06-08T10:26:31.854937",
     "status": "completed"
    },
    "tags": []
   },
   "outputs": [
    {
     "name": "stdout",
     "output_type": "stream",
     "text": [
      "Cloning into 'yolov7'...\r\n",
      "remote: Enumerating objects: 1197, done.\u001b[K\r\n",
      "remote: Total 1197 (delta 0), reused 0 (delta 0), pack-reused 1197\u001b[K\r\n",
      "Receiving objects: 100% (1197/1197), 74.23 MiB | 39.12 MiB/s, done.\r\n",
      "Resolving deltas: 100% (519/519), done.\r\n",
      "\u001b[31mERROR: Could not open requirements file: [Errno 2] No such file or directory: 'requirements.txt'\u001b[0m\u001b[31m\r\n",
      "\u001b[0m"
     ]
    }
   ],
   "source": [
    "!git clone https://github.com/WongKinYiu/yolov7.git\n",
    "!cd yolov7\n",
    "!pip install -r requirements.txt"
   ]
  },
  {
   "cell_type": "code",
   "execution_count": null,
   "id": "58b83f74",
   "metadata": {
    "execution": {
     "iopub.execute_input": "2024-06-08T10:23:47.258572Z",
     "iopub.status.busy": "2024-06-08T10:23:47.258214Z",
     "iopub.status.idle": "2024-06-08T10:23:47.811567Z",
     "shell.execute_reply": "2024-06-08T10:23:47.810652Z",
     "shell.execute_reply.started": "2024-06-08T10:23:47.258545Z"
    },
    "papermill": {
     "duration": 0.003494,
     "end_time": "2024-06-08T10:26:39.404489",
     "exception": false,
     "start_time": "2024-06-08T10:26:39.400995",
     "status": "completed"
    },
    "tags": []
   },
   "outputs": [],
   "source": [
    "\n"
   ]
  },
  {
   "cell_type": "code",
   "execution_count": 2,
   "id": "761e8d22",
   "metadata": {
    "_cell_guid": "b1076dfc-b9ad-4769-8c92-a6c4dae69d19",
    "_uuid": "8f2839f25d086af736a60e9eeb907d3b93b6e0e5",
    "execution": {
     "iopub.execute_input": "2024-06-08T10:26:39.413840Z",
     "iopub.status.busy": "2024-06-08T10:26:39.413452Z",
     "iopub.status.idle": "2024-06-08T10:26:39.419580Z",
     "shell.execute_reply": "2024-06-08T10:26:39.418733Z"
    },
    "papermill": {
     "duration": 0.013432,
     "end_time": "2024-06-08T10:26:39.421772",
     "exception": false,
     "start_time": "2024-06-08T10:26:39.408340",
     "status": "completed"
    },
    "tags": []
   },
   "outputs": [],
   "source": [
    "data_yaml = \"\"\"\n",
    "train: /kaggle/input/yodol-dataset/home/alexis/Desktop/YODOL/images/train\n",
    "val: /kaggle/input/yodol-dataset/home/alexis/Desktop/YODOL/images/val\n",
    "\n",
    "nc: 1  # number of classes\n",
    "names: ['dolphin']  # class names\n",
    "\"\"\"\n",
    "\n",
    "with open('ndd20.yaml', 'w') as f:\n",
    "    f.write(data_yaml)"
   ]
  },
  {
   "cell_type": "code",
   "execution_count": 3,
   "id": "abddb776",
   "metadata": {
    "execution": {
     "iopub.execute_input": "2024-06-08T10:26:39.430475Z",
     "iopub.status.busy": "2024-06-08T10:26:39.430165Z",
     "iopub.status.idle": "2024-06-08T10:26:40.535389Z",
     "shell.execute_reply": "2024-06-08T10:26:40.534362Z"
    },
    "papermill": {
     "duration": 1.112424,
     "end_time": "2024-06-08T10:26:40.537939",
     "exception": false,
     "start_time": "2024-06-08T10:26:39.425515",
     "status": "completed"
    },
    "tags": []
   },
   "outputs": [
    {
     "name": "stdout",
     "output_type": "stream",
     "text": [
      "python: can't open file '/kaggle/working/train.py': [Errno 2] No such file or directory\r\n"
     ]
    }
   ],
   "source": [
    "# Train the model\n",
    "!python train.py --img 640 --batch 16 --epochs 20 --data custom_data.yaml --cfg cfg/training/yolov7.yaml --weights 'yolov7.pt' --name yolov7-custom"
   ]
  },
  {
   "cell_type": "code",
   "execution_count": 4,
   "id": "d0dde2c0",
   "metadata": {
    "execution": {
     "iopub.execute_input": "2024-06-08T10:26:40.547030Z",
     "iopub.status.busy": "2024-06-08T10:26:40.546684Z",
     "iopub.status.idle": "2024-06-08T10:26:41.614309Z",
     "shell.execute_reply": "2024-06-08T10:26:41.613216Z"
    },
    "papermill": {
     "duration": 1.074843,
     "end_time": "2024-06-08T10:26:41.616753",
     "exception": false,
     "start_time": "2024-06-08T10:26:40.541910",
     "status": "completed"
    },
    "tags": []
   },
   "outputs": [
    {
     "name": "stdout",
     "output_type": "stream",
     "text": [
      "python: can't open file '/kaggle/working/val.py': [Errno 2] No such file or directory\r\n"
     ]
    }
   ],
   "source": [
    "# Evaluate the model\n",
    "!python val.py --data ndd20.yaml --weights runs/train/exp/weights/best.pt"
   ]
  },
  {
   "cell_type": "code",
   "execution_count": null,
   "id": "0bc04d5e",
   "metadata": {
    "papermill": {
     "duration": 0.004107,
     "end_time": "2024-06-08T10:26:41.624862",
     "exception": false,
     "start_time": "2024-06-08T10:26:41.620755",
     "status": "completed"
    },
    "tags": []
   },
   "outputs": [],
   "source": []
  }
 ],
 "metadata": {
  "kaggle": {
   "accelerator": "nvidiaTeslaT4",
   "dataSources": [
    {
     "datasetId": 5169597,
     "sourceId": 8633340,
     "sourceType": "datasetVersion"
    }
   ],
   "dockerImageVersionId": 30733,
   "isGpuEnabled": true,
   "isInternetEnabled": true,
   "language": "python",
   "sourceType": "notebook"
  },
  "kernelspec": {
   "display_name": "Python 3",
   "language": "python",
   "name": "python3"
  },
  "language_info": {
   "codemirror_mode": {
    "name": "ipython",
    "version": 3
   },
   "file_extension": ".py",
   "mimetype": "text/x-python",
   "name": "python",
   "nbconvert_exporter": "python",
   "pygments_lexer": "ipython3",
   "version": "3.10.13"
  },
  "papermill": {
   "default_parameters": {},
   "duration": 13.084516,
   "end_time": "2024-06-08T10:26:41.947016",
   "environment_variables": {},
   "exception": null,
   "input_path": "__notebook__.ipynb",
   "output_path": "__notebook__.ipynb",
   "parameters": {},
   "start_time": "2024-06-08T10:26:28.862500",
   "version": "2.5.0"
  }
 },
 "nbformat": 4,
 "nbformat_minor": 5
}
