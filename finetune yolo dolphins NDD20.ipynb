{
 "cells": [
  {
   "cell_type": "code",
   "execution_count": 1,
   "id": "ac536fdf",
   "metadata": {
    "execution": {
     "iopub.execute_input": "2024-06-10T16:26:58.630590Z",
     "iopub.status.busy": "2024-06-10T16:26:58.630214Z",
     "iopub.status.idle": "2024-06-10T16:27:20.509371Z",
     "shell.execute_reply": "2024-06-10T16:27:20.508036Z"
    },
    "papermill": {
     "duration": 21.886573,
     "end_time": "2024-06-10T16:27:20.511978",
     "exception": false,
     "start_time": "2024-06-10T16:26:58.625405",
     "status": "completed"
    },
    "tags": []
   },
   "outputs": [
    {
     "name": "stdout",
     "output_type": "stream",
     "text": [
      "Cloning into 'yolov5'...\r\n",
      "remote: Enumerating objects: 16605, done.\u001b[K\r\n",
      "remote: Counting objects: 100% (146/146), done.\u001b[K\r\n",
      "remote: Compressing objects: 100% (103/103), done.\u001b[K\r\n",
      "remote: Total 16605 (delta 50), reused 96 (delta 43), pack-reused 16459\u001b[K\r\n",
      "Receiving objects: 100% (16605/16605), 15.27 MiB | 30.72 MiB/s, done.\r\n",
      "Resolving deltas: 100% (11356/11356), done.\r\n",
      "/kaggle/working/yolov5\n",
      "Requirement already satisfied: gitpython>=3.1.30 in /opt/conda/lib/python3.10/site-packages (from -r requirements.txt (line 5)) (3.1.41)\r\n",
      "Requirement already satisfied: matplotlib>=3.3 in /opt/conda/lib/python3.10/site-packages (from -r requirements.txt (line 6)) (3.7.5)\r\n",
      "Requirement already satisfied: numpy>=1.23.5 in /opt/conda/lib/python3.10/site-packages (from -r requirements.txt (line 7)) (1.26.4)\r\n",
      "Requirement already satisfied: opencv-python>=4.1.1 in /opt/conda/lib/python3.10/site-packages (from -r requirements.txt (line 8)) (4.10.0.82)\r\n",
      "Collecting pillow>=10.3.0 (from -r requirements.txt (line 9))\r\n",
      "  Downloading pillow-10.3.0-cp310-cp310-manylinux_2_28_x86_64.whl.metadata (9.2 kB)\r\n",
      "Requirement already satisfied: psutil in /opt/conda/lib/python3.10/site-packages (from -r requirements.txt (line 10)) (5.9.3)\r\n",
      "Requirement already satisfied: PyYAML>=5.3.1 in /opt/conda/lib/python3.10/site-packages (from -r requirements.txt (line 11)) (6.0.1)\r\n",
      "Requirement already satisfied: requests>=2.32.0 in /opt/conda/lib/python3.10/site-packages (from -r requirements.txt (line 12)) (2.32.3)\r\n",
      "Requirement already satisfied: scipy>=1.4.1 in /opt/conda/lib/python3.10/site-packages (from -r requirements.txt (line 13)) (1.11.4)\r\n",
      "Collecting thop>=0.1.1 (from -r requirements.txt (line 14))\r\n",
      "  Downloading thop-0.1.1.post2209072238-py3-none-any.whl.metadata (2.7 kB)\r\n",
      "Requirement already satisfied: torch>=1.8.0 in /opt/conda/lib/python3.10/site-packages (from -r requirements.txt (line 15)) (2.1.2)\r\n",
      "Requirement already satisfied: torchvision>=0.9.0 in /opt/conda/lib/python3.10/site-packages (from -r requirements.txt (line 16)) (0.16.2)\r\n",
      "Requirement already satisfied: tqdm>=4.64.0 in /opt/conda/lib/python3.10/site-packages (from -r requirements.txt (line 17)) (4.66.4)\r\n",
      "Collecting ultralytics>=8.0.232 (from -r requirements.txt (line 18))\r\n",
      "  Downloading ultralytics-8.2.30-py3-none-any.whl.metadata (41 kB)\r\n",
      "\u001b[2K     \u001b[90m━━━━━━━━━━━━━━━━━━━━━━━━━━━━━━━━━━━━━━━\u001b[0m \u001b[32m41.2/41.2 kB\u001b[0m \u001b[31m701.1 kB/s\u001b[0m eta \u001b[36m0:00:00\u001b[0m\r\n",
      "\u001b[?25hRequirement already satisfied: pandas>=1.1.4 in /opt/conda/lib/python3.10/site-packages (from -r requirements.txt (line 27)) (2.2.1)\r\n",
      "Requirement already satisfied: seaborn>=0.11.0 in /opt/conda/lib/python3.10/site-packages (from -r requirements.txt (line 28)) (0.12.2)\r\n",
      "Requirement already satisfied: setuptools>=65.5.1 in /opt/conda/lib/python3.10/site-packages (from -r requirements.txt (line 42)) (69.0.3)\r\n",
      "Requirement already satisfied: wheel>=0.38.0 in /opt/conda/lib/python3.10/site-packages (from -r requirements.txt (line 50)) (0.42.0)\r\n",
      "Requirement already satisfied: gitdb<5,>=4.0.1 in /opt/conda/lib/python3.10/site-packages (from gitpython>=3.1.30->-r requirements.txt (line 5)) (4.0.11)\r\n",
      "Requirement already satisfied: contourpy>=1.0.1 in /opt/conda/lib/python3.10/site-packages (from matplotlib>=3.3->-r requirements.txt (line 6)) (1.2.0)\r\n",
      "Requirement already satisfied: cycler>=0.10 in /opt/conda/lib/python3.10/site-packages (from matplotlib>=3.3->-r requirements.txt (line 6)) (0.12.1)\r\n",
      "Requirement already satisfied: fonttools>=4.22.0 in /opt/conda/lib/python3.10/site-packages (from matplotlib>=3.3->-r requirements.txt (line 6)) (4.47.0)\r\n",
      "Requirement already satisfied: kiwisolver>=1.0.1 in /opt/conda/lib/python3.10/site-packages (from matplotlib>=3.3->-r requirements.txt (line 6)) (1.4.5)\r\n",
      "Requirement already satisfied: packaging>=20.0 in /opt/conda/lib/python3.10/site-packages (from matplotlib>=3.3->-r requirements.txt (line 6)) (21.3)\r\n",
      "Requirement already satisfied: pyparsing>=2.3.1 in /opt/conda/lib/python3.10/site-packages (from matplotlib>=3.3->-r requirements.txt (line 6)) (3.1.1)\r\n",
      "Requirement already satisfied: python-dateutil>=2.7 in /opt/conda/lib/python3.10/site-packages (from matplotlib>=3.3->-r requirements.txt (line 6)) (2.9.0.post0)\r\n",
      "Requirement already satisfied: charset-normalizer<4,>=2 in /opt/conda/lib/python3.10/site-packages (from requests>=2.32.0->-r requirements.txt (line 12)) (3.3.2)\r\n",
      "Requirement already satisfied: idna<4,>=2.5 in /opt/conda/lib/python3.10/site-packages (from requests>=2.32.0->-r requirements.txt (line 12)) (3.6)\r\n",
      "Requirement already satisfied: urllib3<3,>=1.21.1 in /opt/conda/lib/python3.10/site-packages (from requests>=2.32.0->-r requirements.txt (line 12)) (1.26.18)\r\n",
      "Requirement already satisfied: certifi>=2017.4.17 in /opt/conda/lib/python3.10/site-packages (from requests>=2.32.0->-r requirements.txt (line 12)) (2024.2.2)\r\n",
      "Requirement already satisfied: filelock in /opt/conda/lib/python3.10/site-packages (from torch>=1.8.0->-r requirements.txt (line 15)) (3.13.1)\r\n",
      "Requirement already satisfied: typing-extensions in /opt/conda/lib/python3.10/site-packages (from torch>=1.8.0->-r requirements.txt (line 15)) (4.9.0)\r\n",
      "Requirement already satisfied: sympy in /opt/conda/lib/python3.10/site-packages (from torch>=1.8.0->-r requirements.txt (line 15)) (1.12.1)\r\n",
      "Requirement already satisfied: networkx in /opt/conda/lib/python3.10/site-packages (from torch>=1.8.0->-r requirements.txt (line 15)) (3.2.1)\r\n",
      "Requirement already satisfied: jinja2 in /opt/conda/lib/python3.10/site-packages (from torch>=1.8.0->-r requirements.txt (line 15)) (3.1.2)\r\n",
      "Requirement already satisfied: fsspec in /opt/conda/lib/python3.10/site-packages (from torch>=1.8.0->-r requirements.txt (line 15)) (2024.3.1)\r\n",
      "Requirement already satisfied: py-cpuinfo in /opt/conda/lib/python3.10/site-packages (from ultralytics>=8.0.232->-r requirements.txt (line 18)) (9.0.0)\r\n",
      "Collecting ultralytics-thop>=0.2.5 (from ultralytics>=8.0.232->-r requirements.txt (line 18))\r\n",
      "  Downloading ultralytics_thop-0.2.8-py3-none-any.whl.metadata (8.5 kB)\r\n",
      "Requirement already satisfied: pytz>=2020.1 in /opt/conda/lib/python3.10/site-packages (from pandas>=1.1.4->-r requirements.txt (line 27)) (2023.3.post1)\r\n",
      "Requirement already satisfied: tzdata>=2022.7 in /opt/conda/lib/python3.10/site-packages (from pandas>=1.1.4->-r requirements.txt (line 27)) (2023.4)\r\n",
      "Requirement already satisfied: smmap<6,>=3.0.1 in /opt/conda/lib/python3.10/site-packages (from gitdb<5,>=4.0.1->gitpython>=3.1.30->-r requirements.txt (line 5)) (5.0.1)\r\n",
      "Requirement already satisfied: six>=1.5 in /opt/conda/lib/python3.10/site-packages (from python-dateutil>=2.7->matplotlib>=3.3->-r requirements.txt (line 6)) (1.16.0)\r\n",
      "Requirement already satisfied: MarkupSafe>=2.0 in /opt/conda/lib/python3.10/site-packages (from jinja2->torch>=1.8.0->-r requirements.txt (line 15)) (2.1.3)\r\n",
      "Requirement already satisfied: mpmath<1.4.0,>=1.1.0 in /opt/conda/lib/python3.10/site-packages (from sympy->torch>=1.8.0->-r requirements.txt (line 15)) (1.3.0)\r\n",
      "Downloading pillow-10.3.0-cp310-cp310-manylinux_2_28_x86_64.whl (4.5 MB)\r\n",
      "\u001b[2K   \u001b[90m━━━━━━━━━━━━━━━━━━━━━━━━━━━━━━━━━━━━━━━━\u001b[0m \u001b[32m4.5/4.5 MB\u001b[0m \u001b[31m20.5 MB/s\u001b[0m eta \u001b[36m0:00:00\u001b[0m\r\n",
      "\u001b[?25hDownloading thop-0.1.1.post2209072238-py3-none-any.whl (15 kB)\r\n",
      "Downloading ultralytics-8.2.30-py3-none-any.whl (780 kB)\r\n",
      "\u001b[2K   \u001b[90m━━━━━━━━━━━━━━━━━━━━━━━━━━━━━━━━━━━━━━━━\u001b[0m \u001b[32m780.6/780.6 kB\u001b[0m \u001b[31m38.3 MB/s\u001b[0m eta \u001b[36m0:00:00\u001b[0m\r\n",
      "\u001b[?25hDownloading ultralytics_thop-0.2.8-py3-none-any.whl (25 kB)\r\n",
      "Installing collected packages: pillow, ultralytics-thop, thop, ultralytics\r\n",
      "  Attempting uninstall: pillow\r\n",
      "    Found existing installation: Pillow 9.5.0\r\n",
      "    Uninstalling Pillow-9.5.0:\r\n",
      "      Successfully uninstalled Pillow-9.5.0\r\n",
      "\u001b[31mERROR: pip's dependency resolver does not currently take into account all the packages that are installed. This behaviour is the source of the following dependency conflicts.\r\n",
      "spopt 0.6.0 requires shapely>=2.0.1, but you have shapely 1.8.5.post1 which is incompatible.\r\n",
      "ydata-profiling 4.6.4 requires numpy<1.26,>=1.16.0, but you have numpy 1.26.4 which is incompatible.\u001b[0m\u001b[31m\r\n",
      "\u001b[0mSuccessfully installed pillow-10.3.0 thop-0.1.1.post2209072238 ultralytics-8.2.30 ultralytics-thop-0.2.8\r\n"
     ]
    }
   ],
   "source": [
    "# Install YOLOv5\n",
    "!git clone https://github.com/ultralytics/yolov5.git\n",
    "%cd yolov5\n",
    "!pip install -r requirements.txt"
   ]
  },
  {
   "cell_type": "code",
   "execution_count": null,
   "id": "4ab49e8a",
   "metadata": {
    "execution": {
     "iopub.execute_input": "2024-06-07T14:39:21.688568Z",
     "iopub.status.busy": "2024-06-07T14:39:21.687814Z",
     "iopub.status.idle": "2024-06-07T14:39:42.379917Z",
     "shell.execute_reply": "2024-06-07T14:39:42.379043Z",
     "shell.execute_reply.started": "2024-06-07T14:39:21.688533Z"
    },
    "papermill": {
     "duration": 0.007418,
     "end_time": "2024-06-10T16:27:20.527325",
     "exception": false,
     "start_time": "2024-06-10T16:27:20.519907",
     "status": "completed"
    },
    "tags": []
   },
   "outputs": [],
   "source": [
    "\n"
   ]
  },
  {
   "cell_type": "code",
   "execution_count": 2,
   "id": "372a0b80",
   "metadata": {
    "_cell_guid": "b1076dfc-b9ad-4769-8c92-a6c4dae69d19",
    "_uuid": "8f2839f25d086af736a60e9eeb907d3b93b6e0e5",
    "execution": {
     "iopub.execute_input": "2024-06-10T16:27:20.544243Z",
     "iopub.status.busy": "2024-06-10T16:27:20.543897Z",
     "iopub.status.idle": "2024-06-10T16:27:20.577306Z",
     "shell.execute_reply": "2024-06-10T16:27:20.576560Z"
    },
    "papermill": {
     "duration": 0.04439,
     "end_time": "2024-06-10T16:27:20.579104",
     "exception": false,
     "start_time": "2024-06-10T16:27:20.534714",
     "status": "completed"
    },
    "tags": []
   },
   "outputs": [],
   "source": [
    "import yaml\n",
    "\n",
    "# Define the classes\n",
    "classes = ['dolphin', 'diver', 'fish']\n",
    "\n",
    "# Define the data dictionary\n",
    "data_yaml = {\n",
    "    'train': '/kaggle/input/custom-dolphin-data/Custom_dataset/train/images',\n",
    "    'val': '/kaggle/input/custom-dolphin-data/Custom_dataset/val/images',\n",
    "    'nc': len(classes),\n",
    "    'names': classes\n",
    "}\n",
    "\n",
    "# Write the data dictionary to the data.yaml file\n",
    "with open('/kaggle/working/data_yaml.yaml', 'w') as f:\n",
    "    yaml.dump(data_yaml, f)\n",
    "\n",
    "\n"
   ]
  },
  {
   "cell_type": "code",
   "execution_count": 3,
   "id": "92b9639c",
   "metadata": {
    "execution": {
     "iopub.execute_input": "2024-06-10T16:27:20.595778Z",
     "iopub.status.busy": "2024-06-10T16:27:20.595108Z",
     "iopub.status.idle": "2024-06-10T16:28:20.342588Z",
     "shell.execute_reply": "2024-06-10T16:28:20.341091Z"
    },
    "papermill": {
     "duration": 59.758467,
     "end_time": "2024-06-10T16:28:20.345371",
     "exception": false,
     "start_time": "2024-06-10T16:27:20.586904",
     "status": "completed"
    },
    "tags": []
   },
   "outputs": [
    {
     "name": "stdout",
     "output_type": "stream",
     "text": [
      "\u001b[34m\u001b[1mwandb\u001b[0m: WARNING ⚠️ wandb is deprecated and will be removed in a future release. See supported integrations at https://github.com/ultralytics/yolov5#integrations.\r\n",
      "2024-06-10 16:27:35.831132: E external/local_xla/xla/stream_executor/cuda/cuda_dnn.cc:9261] Unable to register cuDNN factory: Attempting to register factory for plugin cuDNN when one has already been registered\r\n",
      "2024-06-10 16:27:35.831263: E external/local_xla/xla/stream_executor/cuda/cuda_fft.cc:607] Unable to register cuFFT factory: Attempting to register factory for plugin cuFFT when one has already been registered\r\n",
      "2024-06-10 16:27:35.978685: E external/local_xla/xla/stream_executor/cuda/cuda_blas.cc:1515] Unable to register cuBLAS factory: Attempting to register factory for plugin cuBLAS when one has already been registered\r\n",
      "\u001b[34m\u001b[1mwandb\u001b[0m: (1) Create a W&B account\r\n",
      "\u001b[34m\u001b[1mwandb\u001b[0m: (2) Use an existing W&B account\r\n",
      "\u001b[34m\u001b[1mwandb\u001b[0m: (3) Don't visualize my results\r\n",
      "\u001b[34m\u001b[1mwandb\u001b[0m: Enter your choice: (30 second timeout) \r\n",
      "\u001b[34m\u001b[1mwandb\u001b[0m: W&B disabled due to login timeout.\r\n",
      "\u001b[34m\u001b[1mtrain: \u001b[0mweights=yolov5s.pt, cfg=yolov5s.yaml, data=ndd20.yaml, hyp=data/hyps/hyp.scratch-low.yaml, epochs=100, batch_size=16, imgsz=640, rect=False, resume=False, nosave=False, noval=False, noautoanchor=False, noplots=False, evolve=None, evolve_population=data/hyps, resume_evolve=None, bucket=, cache=None, image_weights=False, device=, multi_scale=False, single_cls=False, optimizer=SGD, sync_bn=False, workers=8, project=runs/train, name=exp, exist_ok=False, quad=False, cos_lr=False, label_smoothing=0.0, patience=100, freeze=[0], save_period=-1, seed=0, local_rank=-1, entity=None, upload_dataset=False, bbox_interval=-1, artifact_alias=latest, ndjson_console=False, ndjson_file=False\r\n",
      "\u001b[34m\u001b[1mgithub: \u001b[0mup to date with https://github.com/ultralytics/yolov5 ✅\r\n",
      "Traceback (most recent call last):\r\n",
      "  File \"/kaggle/working/yolov5/train.py\", line 848, in <module>\r\n",
      "    main(opt)\r\n",
      "  File \"/kaggle/working/yolov5/train.py\", line 591, in main\r\n",
      "    check_file(opt.data),\r\n",
      "  File \"/kaggle/working/yolov5/utils/general.py\", line 504, in check_file\r\n",
      "    assert len(files), f\"File not found: {file}\"  # assert file was found\r\n",
      "AssertionError: File not found: ndd20.yaml\r\n",
      "Traceback (most recent call last):\r\n",
      "  File \"/kaggle/working/yolov5/train.py\", line 848, in <module>\r\n",
      "    main(opt)\r\n",
      "  File \"/kaggle/working/yolov5/train.py\", line 591, in main\r\n",
      "    check_file(opt.data),\r\n",
      "  File \"/kaggle/working/yolov5/utils/general.py\", line 504, in check_file\r\n",
      "    assert len(files), f\"File not found: {file}\"  # assert file was found\r\n",
      "AssertionError: File not found: ndd20.yaml\r\n"
     ]
    }
   ],
   "source": [
    "# Train the model\n",
    "!python train.py --img 640 --batch 16 --epochs 100 --data ndd20.yaml --cfg yolov5s.yaml --weights yolov5s.pt\n"
   ]
  },
  {
   "cell_type": "code",
   "execution_count": 4,
   "id": "36696499",
   "metadata": {
    "execution": {
     "iopub.execute_input": "2024-06-10T16:28:20.365212Z",
     "iopub.status.busy": "2024-06-10T16:28:20.364824Z",
     "iopub.status.idle": "2024-06-10T16:28:28.236739Z",
     "shell.execute_reply": "2024-06-10T16:28:28.235535Z"
    },
    "papermill": {
     "duration": 7.884807,
     "end_time": "2024-06-10T16:28:28.239209",
     "exception": false,
     "start_time": "2024-06-10T16:28:20.354402",
     "status": "completed"
    },
    "tags": []
   },
   "outputs": [
    {
     "name": "stdout",
     "output_type": "stream",
     "text": [
      "Traceback (most recent call last):\r\n",
      "  File \"/kaggle/working/yolov5/val.py\", line 437, in <module>\r\n",
      "    opt = parse_opt()\r\n",
      "  File \"/kaggle/working/yolov5/val.py\", line 391, in parse_opt\r\n",
      "    opt.data = check_yaml(opt.data)  # check YAML\r\n",
      "  File \"/kaggle/working/yolov5/utils/general.py\", line 476, in check_yaml\r\n",
      "    return check_file(file, suffix)\r\n",
      "  File \"/kaggle/working/yolov5/utils/general.py\", line 504, in check_file\r\n",
      "    assert len(files), f\"File not found: {file}\"  # assert file was found\r\n",
      "AssertionError: File not found: ndd20.yaml\r\n"
     ]
    }
   ],
   "source": [
    "\n",
    "# Evaluate the model\n",
    "!python val.py --data ndd20.yaml --weights runs/train/exp/weights/best.pt\n"
   ]
  },
  {
   "cell_type": "code",
   "execution_count": 5,
   "id": "c7a84d70",
   "metadata": {
    "execution": {
     "iopub.execute_input": "2024-06-10T16:28:28.258621Z",
     "iopub.status.busy": "2024-06-10T16:28:28.258271Z",
     "iopub.status.idle": "2024-06-10T16:28:36.429930Z",
     "shell.execute_reply": "2024-06-10T16:28:36.428654Z"
    },
    "papermill": {
     "duration": 8.184457,
     "end_time": "2024-06-10T16:28:36.432666",
     "exception": false,
     "start_time": "2024-06-10T16:28:28.248209",
     "status": "completed"
    },
    "tags": []
   },
   "outputs": [
    {
     "name": "stdout",
     "output_type": "stream",
     "text": [
      "\u001b[34m\u001b[1mdetect: \u001b[0mweights=['runs/train/exp/weights/best.pt'], source=../input/ndd20/images/test, data=data/coco128.yaml, imgsz=[640, 640], conf_thres=0.25, iou_thres=0.45, max_det=1000, device=, view_img=False, save_txt=False, save_csv=False, save_conf=False, save_crop=False, nosave=False, classes=None, agnostic_nms=False, augment=False, visualize=False, update=False, project=runs/detect, name=exp, exist_ok=False, line_thickness=3, hide_labels=False, hide_conf=False, half=False, dnn=False, vid_stride=1\r\n",
      "YOLOv5 🚀 v7.0-321-g3742ab49 Python-3.10.13 torch-2.1.2 CUDA:0 (Tesla T4, 15102MiB)\r\n",
      "\r\n",
      "Traceback (most recent call last):\r\n",
      "  File \"/kaggle/working/yolov5/detect.py\", line 312, in <module>\r\n",
      "    main(opt)\r\n",
      "  File \"/kaggle/working/yolov5/detect.py\", line 307, in main\r\n",
      "    run(**vars(opt))\r\n",
      "  File \"/opt/conda/lib/python3.10/site-packages/torch/utils/_contextlib.py\", line 115, in decorate_context\r\n",
      "    return func(*args, **kwargs)\r\n",
      "  File \"/kaggle/working/yolov5/detect.py\", line 115, in run\r\n",
      "    model = DetectMultiBackend(weights, device=device, dnn=dnn, data=data, fp16=half)\r\n",
      "  File \"/kaggle/working/yolov5/models/common.py\", line 467, in __init__\r\n",
      "    model = attempt_load(weights if isinstance(weights, list) else w, device=device, inplace=True, fuse=fuse)\r\n",
      "  File \"/kaggle/working/yolov5/models/experimental.py\", line 98, in attempt_load\r\n",
      "    ckpt = torch.load(attempt_download(w), map_location=\"cpu\")  # load\r\n",
      "  File \"/opt/conda/lib/python3.10/site-packages/torch/serialization.py\", line 986, in load\r\n",
      "    with _open_file_like(f, 'rb') as opened_file:\r\n",
      "  File \"/opt/conda/lib/python3.10/site-packages/torch/serialization.py\", line 435, in _open_file_like\r\n",
      "    return _open_file(name_or_buffer, mode)\r\n",
      "  File \"/opt/conda/lib/python3.10/site-packages/torch/serialization.py\", line 416, in __init__\r\n",
      "    super().__init__(open(name, mode))\r\n",
      "FileNotFoundError: [Errno 2] No such file or directory: 'runs/train/exp/weights/best.pt'\r\n"
     ]
    }
   ],
   "source": [
    "\n",
    "# Run inference\n",
    "!python detect.py --source ../input/ndd20/images/test --weights runs/train/exp/weights/best.pt --img 640\n"
   ]
  }
 ],
 "metadata": {
  "kaggle": {
   "accelerator": "nvidiaTeslaT4",
   "dataSources": [
    {
     "datasetId": 5169597,
     "sourceId": 8633340,
     "sourceType": "datasetVersion"
    },
    {
     "datasetId": 5186776,
     "sourceId": 8657837,
     "sourceType": "datasetVersion"
    }
   ],
   "dockerImageVersionId": 30733,
   "isGpuEnabled": true,
   "isInternetEnabled": true,
   "language": "python",
   "sourceType": "notebook"
  },
  "kernelspec": {
   "display_name": "Python 3",
   "language": "python",
   "name": "python3"
  },
  "language_info": {
   "codemirror_mode": {
    "name": "ipython",
    "version": 3
   },
   "file_extension": ".py",
   "mimetype": "text/x-python",
   "name": "python",
   "nbconvert_exporter": "python",
   "pygments_lexer": "ipython3",
   "version": "3.10.13"
  },
  "papermill": {
   "default_parameters": {},
   "duration": 101.291356,
   "end_time": "2024-06-10T16:28:36.761778",
   "environment_variables": {},
   "exception": null,
   "input_path": "__notebook__.ipynb",
   "output_path": "__notebook__.ipynb",
   "parameters": {},
   "start_time": "2024-06-10T16:26:55.470422",
   "version": "2.5.0"
  }
 },
 "nbformat": 4,
 "nbformat_minor": 5
}
