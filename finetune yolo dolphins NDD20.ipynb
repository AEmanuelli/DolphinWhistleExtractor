{
 "cells": [
  {
   "cell_type": "code",
   "execution_count": 1,
   "id": "3378cda1",
   "metadata": {
    "execution": {
     "iopub.execute_input": "2024-06-08T10:36:33.362895Z",
     "iopub.status.busy": "2024-06-08T10:36:33.362348Z",
     "iopub.status.idle": "2024-06-08T10:36:37.388827Z",
     "shell.execute_reply": "2024-06-08T10:36:37.387917Z"
    },
    "papermill": {
     "duration": 4.0327,
     "end_time": "2024-06-08T10:36:37.391110",
     "exception": false,
     "start_time": "2024-06-08T10:36:33.358410",
     "status": "completed"
    },
    "tags": []
   },
   "outputs": [
    {
     "name": "stdout",
     "output_type": "stream",
     "text": [
      "Cloning into 'yolov7'...\r\n",
      "remote: Enumerating objects: 1197, done.\u001b[K\r\n",
      "remote: Total 1197 (delta 0), reused 0 (delta 0), pack-reused 1197\u001b[K\r\n",
      "Receiving objects: 100% (1197/1197), 74.23 MiB | 38.48 MiB/s, done.\r\n",
      "Resolving deltas: 100% (519/519), done.\r\n"
     ]
    }
   ],
   "source": [
    "!git clone https://github.com/WongKinYiu/yolov7.git"
   ]
  },
  {
   "cell_type": "code",
   "execution_count": 2,
   "id": "3b093f71",
   "metadata": {
    "execution": {
     "iopub.execute_input": "2024-06-08T10:36:37.400101Z",
     "iopub.status.busy": "2024-06-08T10:36:37.399795Z",
     "iopub.status.idle": "2024-06-08T10:36:56.727344Z",
     "shell.execute_reply": "2024-06-08T10:36:56.726442Z"
    },
    "papermill": {
     "duration": 19.334489,
     "end_time": "2024-06-08T10:36:56.729576",
     "exception": false,
     "start_time": "2024-06-08T10:36:37.395087",
     "status": "completed"
    },
    "tags": []
   },
   "outputs": [
    {
     "name": "stdout",
     "output_type": "stream",
     "text": [
      "Requirement already satisfied: matplotlib>=3.2.2 in /opt/conda/lib/python3.10/site-packages (from -r /kaggle/working/yolov7/requirements.txt (line 4)) (3.7.5)\r\n",
      "Collecting numpy<1.24.0,>=1.18.5 (from -r /kaggle/working/yolov7/requirements.txt (line 5))\r\n",
      "  Downloading numpy-1.23.5-cp310-cp310-manylinux_2_17_x86_64.manylinux2014_x86_64.whl.metadata (2.3 kB)\r\n",
      "Requirement already satisfied: opencv-python>=4.1.1 in /opt/conda/lib/python3.10/site-packages (from -r /kaggle/working/yolov7/requirements.txt (line 6)) (4.10.0.82)\r\n",
      "Requirement already satisfied: Pillow>=7.1.2 in /opt/conda/lib/python3.10/site-packages (from -r /kaggle/working/yolov7/requirements.txt (line 7)) (9.5.0)\r\n",
      "Requirement already satisfied: PyYAML>=5.3.1 in /opt/conda/lib/python3.10/site-packages (from -r /kaggle/working/yolov7/requirements.txt (line 8)) (6.0.1)\r\n",
      "Requirement already satisfied: requests>=2.23.0 in /opt/conda/lib/python3.10/site-packages (from -r /kaggle/working/yolov7/requirements.txt (line 9)) (2.32.3)\r\n",
      "Requirement already satisfied: scipy>=1.4.1 in /opt/conda/lib/python3.10/site-packages (from -r /kaggle/working/yolov7/requirements.txt (line 10)) (1.11.4)\r\n",
      "Requirement already satisfied: torch!=1.12.0,>=1.7.0 in /opt/conda/lib/python3.10/site-packages (from -r /kaggle/working/yolov7/requirements.txt (line 11)) (2.1.2)\r\n",
      "Requirement already satisfied: torchvision!=0.13.0,>=0.8.1 in /opt/conda/lib/python3.10/site-packages (from -r /kaggle/working/yolov7/requirements.txt (line 12)) (0.16.2)\r\n",
      "Requirement already satisfied: tqdm>=4.41.0 in /opt/conda/lib/python3.10/site-packages (from -r /kaggle/working/yolov7/requirements.txt (line 13)) (4.66.4)\r\n",
      "Requirement already satisfied: protobuf<4.21.3 in /opt/conda/lib/python3.10/site-packages (from -r /kaggle/working/yolov7/requirements.txt (line 14)) (3.20.3)\r\n",
      "Requirement already satisfied: tensorboard>=2.4.1 in /opt/conda/lib/python3.10/site-packages (from -r /kaggle/working/yolov7/requirements.txt (line 17)) (2.15.1)\r\n",
      "Requirement already satisfied: pandas>=1.1.4 in /opt/conda/lib/python3.10/site-packages (from -r /kaggle/working/yolov7/requirements.txt (line 21)) (2.2.1)\r\n",
      "Requirement already satisfied: seaborn>=0.11.0 in /opt/conda/lib/python3.10/site-packages (from -r /kaggle/working/yolov7/requirements.txt (line 22)) (0.12.2)\r\n",
      "Requirement already satisfied: ipython in /opt/conda/lib/python3.10/site-packages (from -r /kaggle/working/yolov7/requirements.txt (line 34)) (8.20.0)\r\n",
      "Requirement already satisfied: psutil in /opt/conda/lib/python3.10/site-packages (from -r /kaggle/working/yolov7/requirements.txt (line 35)) (5.9.3)\r\n",
      "Collecting thop (from -r /kaggle/working/yolov7/requirements.txt (line 36))\r\n",
      "  Downloading thop-0.1.1.post2209072238-py3-none-any.whl.metadata (2.7 kB)\r\n",
      "Requirement already satisfied: contourpy>=1.0.1 in /opt/conda/lib/python3.10/site-packages (from matplotlib>=3.2.2->-r /kaggle/working/yolov7/requirements.txt (line 4)) (1.2.0)\r\n",
      "Requirement already satisfied: cycler>=0.10 in /opt/conda/lib/python3.10/site-packages (from matplotlib>=3.2.2->-r /kaggle/working/yolov7/requirements.txt (line 4)) (0.12.1)\r\n",
      "Requirement already satisfied: fonttools>=4.22.0 in /opt/conda/lib/python3.10/site-packages (from matplotlib>=3.2.2->-r /kaggle/working/yolov7/requirements.txt (line 4)) (4.47.0)\r\n",
      "Requirement already satisfied: kiwisolver>=1.0.1 in /opt/conda/lib/python3.10/site-packages (from matplotlib>=3.2.2->-r /kaggle/working/yolov7/requirements.txt (line 4)) (1.4.5)\r\n",
      "Requirement already satisfied: packaging>=20.0 in /opt/conda/lib/python3.10/site-packages (from matplotlib>=3.2.2->-r /kaggle/working/yolov7/requirements.txt (line 4)) (21.3)\r\n",
      "Requirement already satisfied: pyparsing>=2.3.1 in /opt/conda/lib/python3.10/site-packages (from matplotlib>=3.2.2->-r /kaggle/working/yolov7/requirements.txt (line 4)) (3.1.1)\r\n",
      "Requirement already satisfied: python-dateutil>=2.7 in /opt/conda/lib/python3.10/site-packages (from matplotlib>=3.2.2->-r /kaggle/working/yolov7/requirements.txt (line 4)) (2.9.0.post0)\r\n",
      "Requirement already satisfied: charset-normalizer<4,>=2 in /opt/conda/lib/python3.10/site-packages (from requests>=2.23.0->-r /kaggle/working/yolov7/requirements.txt (line 9)) (3.3.2)\r\n",
      "Requirement already satisfied: idna<4,>=2.5 in /opt/conda/lib/python3.10/site-packages (from requests>=2.23.0->-r /kaggle/working/yolov7/requirements.txt (line 9)) (3.6)\r\n",
      "Requirement already satisfied: urllib3<3,>=1.21.1 in /opt/conda/lib/python3.10/site-packages (from requests>=2.23.0->-r /kaggle/working/yolov7/requirements.txt (line 9)) (1.26.18)\r\n",
      "Requirement already satisfied: certifi>=2017.4.17 in /opt/conda/lib/python3.10/site-packages (from requests>=2.23.0->-r /kaggle/working/yolov7/requirements.txt (line 9)) (2024.2.2)\r\n",
      "Requirement already satisfied: filelock in /opt/conda/lib/python3.10/site-packages (from torch!=1.12.0,>=1.7.0->-r /kaggle/working/yolov7/requirements.txt (line 11)) (3.13.1)\r\n",
      "Requirement already satisfied: typing-extensions in /opt/conda/lib/python3.10/site-packages (from torch!=1.12.0,>=1.7.0->-r /kaggle/working/yolov7/requirements.txt (line 11)) (4.9.0)\r\n",
      "Requirement already satisfied: sympy in /opt/conda/lib/python3.10/site-packages (from torch!=1.12.0,>=1.7.0->-r /kaggle/working/yolov7/requirements.txt (line 11)) (1.12.1)\r\n",
      "Requirement already satisfied: networkx in /opt/conda/lib/python3.10/site-packages (from torch!=1.12.0,>=1.7.0->-r /kaggle/working/yolov7/requirements.txt (line 11)) (3.2.1)\r\n",
      "Requirement already satisfied: jinja2 in /opt/conda/lib/python3.10/site-packages (from torch!=1.12.0,>=1.7.0->-r /kaggle/working/yolov7/requirements.txt (line 11)) (3.1.2)\r\n",
      "Requirement already satisfied: fsspec in /opt/conda/lib/python3.10/site-packages (from torch!=1.12.0,>=1.7.0->-r /kaggle/working/yolov7/requirements.txt (line 11)) (2024.3.1)\r\n",
      "Requirement already satisfied: absl-py>=0.4 in /opt/conda/lib/python3.10/site-packages (from tensorboard>=2.4.1->-r /kaggle/working/yolov7/requirements.txt (line 17)) (1.4.0)\r\n",
      "Requirement already satisfied: grpcio>=1.48.2 in /opt/conda/lib/python3.10/site-packages (from tensorboard>=2.4.1->-r /kaggle/working/yolov7/requirements.txt (line 17)) (1.59.3)\r\n",
      "Requirement already satisfied: google-auth<3,>=1.6.3 in /opt/conda/lib/python3.10/site-packages (from tensorboard>=2.4.1->-r /kaggle/working/yolov7/requirements.txt (line 17)) (2.26.1)\r\n",
      "Requirement already satisfied: google-auth-oauthlib<2,>=0.5 in /opt/conda/lib/python3.10/site-packages (from tensorboard>=2.4.1->-r /kaggle/working/yolov7/requirements.txt (line 17)) (1.2.0)\r\n",
      "Requirement already satisfied: markdown>=2.6.8 in /opt/conda/lib/python3.10/site-packages (from tensorboard>=2.4.1->-r /kaggle/working/yolov7/requirements.txt (line 17)) (3.5.2)\r\n",
      "Requirement already satisfied: setuptools>=41.0.0 in /opt/conda/lib/python3.10/site-packages (from tensorboard>=2.4.1->-r /kaggle/working/yolov7/requirements.txt (line 17)) (69.0.3)\r\n",
      "Requirement already satisfied: six>1.9 in /opt/conda/lib/python3.10/site-packages (from tensorboard>=2.4.1->-r /kaggle/working/yolov7/requirements.txt (line 17)) (1.16.0)\r\n",
      "Requirement already satisfied: tensorboard-data-server<0.8.0,>=0.7.0 in /opt/conda/lib/python3.10/site-packages (from tensorboard>=2.4.1->-r /kaggle/working/yolov7/requirements.txt (line 17)) (0.7.2)\r\n",
      "Requirement already satisfied: werkzeug>=1.0.1 in /opt/conda/lib/python3.10/site-packages (from tensorboard>=2.4.1->-r /kaggle/working/yolov7/requirements.txt (line 17)) (3.0.3)\r\n",
      "Requirement already satisfied: pytz>=2020.1 in /opt/conda/lib/python3.10/site-packages (from pandas>=1.1.4->-r /kaggle/working/yolov7/requirements.txt (line 21)) (2023.3.post1)\r\n",
      "Requirement already satisfied: tzdata>=2022.7 in /opt/conda/lib/python3.10/site-packages (from pandas>=1.1.4->-r /kaggle/working/yolov7/requirements.txt (line 21)) (2023.4)\r\n",
      "Requirement already satisfied: decorator in /opt/conda/lib/python3.10/site-packages (from ipython->-r /kaggle/working/yolov7/requirements.txt (line 34)) (5.1.1)\r\n",
      "Requirement already satisfied: jedi>=0.16 in /opt/conda/lib/python3.10/site-packages (from ipython->-r /kaggle/working/yolov7/requirements.txt (line 34)) (0.19.1)\r\n",
      "Requirement already satisfied: matplotlib-inline in /opt/conda/lib/python3.10/site-packages (from ipython->-r /kaggle/working/yolov7/requirements.txt (line 34)) (0.1.6)\r\n",
      "Requirement already satisfied: prompt-toolkit<3.1.0,>=3.0.41 in /opt/conda/lib/python3.10/site-packages (from ipython->-r /kaggle/working/yolov7/requirements.txt (line 34)) (3.0.42)\r\n",
      "Requirement already satisfied: pygments>=2.4.0 in /opt/conda/lib/python3.10/site-packages (from ipython->-r /kaggle/working/yolov7/requirements.txt (line 34)) (2.17.2)\r\n",
      "Requirement already satisfied: stack-data in /opt/conda/lib/python3.10/site-packages (from ipython->-r /kaggle/working/yolov7/requirements.txt (line 34)) (0.6.2)\r\n",
      "Requirement already satisfied: traitlets>=5 in /opt/conda/lib/python3.10/site-packages (from ipython->-r /kaggle/working/yolov7/requirements.txt (line 34)) (5.9.0)\r\n",
      "Requirement already satisfied: exceptiongroup in /opt/conda/lib/python3.10/site-packages (from ipython->-r /kaggle/working/yolov7/requirements.txt (line 34)) (1.2.0)\r\n",
      "Requirement already satisfied: pexpect>4.3 in /opt/conda/lib/python3.10/site-packages (from ipython->-r /kaggle/working/yolov7/requirements.txt (line 34)) (4.8.0)\r\n",
      "Requirement already satisfied: cachetools<6.0,>=2.0.0 in /opt/conda/lib/python3.10/site-packages (from google-auth<3,>=1.6.3->tensorboard>=2.4.1->-r /kaggle/working/yolov7/requirements.txt (line 17)) (4.2.4)\r\n",
      "Requirement already satisfied: pyasn1-modules>=0.2.1 in /opt/conda/lib/python3.10/site-packages (from google-auth<3,>=1.6.3->tensorboard>=2.4.1->-r /kaggle/working/yolov7/requirements.txt (line 17)) (0.3.0)\r\n",
      "Requirement already satisfied: rsa<5,>=3.1.4 in /opt/conda/lib/python3.10/site-packages (from google-auth<3,>=1.6.3->tensorboard>=2.4.1->-r /kaggle/working/yolov7/requirements.txt (line 17)) (4.9)\r\n",
      "Requirement already satisfied: requests-oauthlib>=0.7.0 in /opt/conda/lib/python3.10/site-packages (from google-auth-oauthlib<2,>=0.5->tensorboard>=2.4.1->-r /kaggle/working/yolov7/requirements.txt (line 17)) (1.3.1)\r\n",
      "Requirement already satisfied: parso<0.9.0,>=0.8.3 in /opt/conda/lib/python3.10/site-packages (from jedi>=0.16->ipython->-r /kaggle/working/yolov7/requirements.txt (line 34)) (0.8.3)\r\n",
      "Requirement already satisfied: ptyprocess>=0.5 in /opt/conda/lib/python3.10/site-packages (from pexpect>4.3->ipython->-r /kaggle/working/yolov7/requirements.txt (line 34)) (0.7.0)\r\n",
      "Requirement already satisfied: wcwidth in /opt/conda/lib/python3.10/site-packages (from prompt-toolkit<3.1.0,>=3.0.41->ipython->-r /kaggle/working/yolov7/requirements.txt (line 34)) (0.2.13)\r\n",
      "Requirement already satisfied: MarkupSafe>=2.1.1 in /opt/conda/lib/python3.10/site-packages (from werkzeug>=1.0.1->tensorboard>=2.4.1->-r /kaggle/working/yolov7/requirements.txt (line 17)) (2.1.3)\r\n",
      "Requirement already satisfied: executing>=1.2.0 in /opt/conda/lib/python3.10/site-packages (from stack-data->ipython->-r /kaggle/working/yolov7/requirements.txt (line 34)) (2.0.1)\r\n",
      "Requirement already satisfied: asttokens>=2.1.0 in /opt/conda/lib/python3.10/site-packages (from stack-data->ipython->-r /kaggle/working/yolov7/requirements.txt (line 34)) (2.4.1)\r\n",
      "Requirement already satisfied: pure-eval in /opt/conda/lib/python3.10/site-packages (from stack-data->ipython->-r /kaggle/working/yolov7/requirements.txt (line 34)) (0.2.2)\r\n",
      "Requirement already satisfied: mpmath<1.4.0,>=1.1.0 in /opt/conda/lib/python3.10/site-packages (from sympy->torch!=1.12.0,>=1.7.0->-r /kaggle/working/yolov7/requirements.txt (line 11)) (1.3.0)\r\n",
      "Requirement already satisfied: pyasn1<0.6.0,>=0.4.6 in /opt/conda/lib/python3.10/site-packages (from pyasn1-modules>=0.2.1->google-auth<3,>=1.6.3->tensorboard>=2.4.1->-r /kaggle/working/yolov7/requirements.txt (line 17)) (0.5.1)\r\n",
      "Requirement already satisfied: oauthlib>=3.0.0 in /opt/conda/lib/python3.10/site-packages (from requests-oauthlib>=0.7.0->google-auth-oauthlib<2,>=0.5->tensorboard>=2.4.1->-r /kaggle/working/yolov7/requirements.txt (line 17)) (3.2.2)\r\n",
      "Downloading numpy-1.23.5-cp310-cp310-manylinux_2_17_x86_64.manylinux2014_x86_64.whl (17.1 MB)\r\n",
      "\u001b[2K   \u001b[90m━━━━━━━━━━━━━━━━━━━━━━━━━━━━━━━━━━━━━━━━\u001b[0m \u001b[32m17.1/17.1 MB\u001b[0m \u001b[31m62.1 MB/s\u001b[0m eta \u001b[36m0:00:00\u001b[0m\r\n",
      "\u001b[?25hDownloading thop-0.1.1.post2209072238-py3-none-any.whl (15 kB)\r\n",
      "Installing collected packages: numpy, thop\r\n",
      "  Attempting uninstall: numpy\r\n",
      "    Found existing installation: numpy 1.26.4\r\n",
      "    Uninstalling numpy-1.26.4:\r\n",
      "      Successfully uninstalled numpy-1.26.4\r\n",
      "\u001b[31mERROR: pip's dependency resolver does not currently take into account all the packages that are installed. This behaviour is the source of the following dependency conflicts.\r\n",
      "cudf 24.4.1 requires cubinlinker, which is not installed.\r\n",
      "cudf 24.4.1 requires cupy-cuda11x>=12.0.0, which is not installed.\r\n",
      "cudf 24.4.1 requires ptxcompiler, which is not installed.\r\n",
      "cuml 24.4.0 requires cupy-cuda11x>=12.0.0, which is not installed.\r\n",
      "dask-cudf 24.4.1 requires cupy-cuda11x>=12.0.0, which is not installed.\r\n",
      "keras-nlp 0.12.1 requires keras-core, which is not installed.\r\n",
      "tensorflow-decision-forests 1.8.1 requires wurlitzer, which is not installed.\r\n",
      "albumentations 1.4.0 requires numpy>=1.24.4, but you have numpy 1.23.5 which is incompatible.\r\n",
      "apache-beam 2.46.0 requires dill<0.3.2,>=0.3.1.1, but you have dill 0.3.8 which is incompatible.\r\n",
      "apache-beam 2.46.0 requires pyarrow<10.0.0,>=3.0.0, but you have pyarrow 14.0.2 which is incompatible.\r\n",
      "chex 0.1.86 requires numpy>=1.24.1, but you have numpy 1.23.5 which is incompatible.\r\n",
      "cudf 24.4.1 requires cuda-python<12.0a0,>=11.7.1, but you have cuda-python 12.5.0 which is incompatible.\r\n",
      "featuretools 1.31.0 requires numpy>=1.25.0, but you have numpy 1.23.5 which is incompatible.\r\n",
      "libpysal 4.9.2 requires packaging>=22, but you have packaging 21.3 which is incompatible.\r\n",
      "libpysal 4.9.2 requires shapely>=2.0.1, but you have shapely 1.8.5.post1 which is incompatible.\r\n",
      "momepy 0.7.0 requires shapely>=2, but you have shapely 1.8.5.post1 which is incompatible.\r\n",
      "osmnx 1.9.3 requires shapely>=2.0, but you have shapely 1.8.5.post1 which is incompatible.\r\n",
      "pyldavis 3.4.1 requires numpy>=1.24.2, but you have numpy 1.23.5 which is incompatible.\r\n",
      "pylibraft 24.4.0 requires cuda-python<12.0a0,>=11.7.1, but you have cuda-python 12.5.0 which is incompatible.\r\n",
      "rmm 24.4.0 requires cuda-python<12.0a0,>=11.7.1, but you have cuda-python 12.5.0 which is incompatible.\r\n",
      "spopt 0.6.0 requires shapely>=2.0.1, but you have shapely 1.8.5.post1 which is incompatible.\r\n",
      "tensorflow 2.15.0 requires keras<2.16,>=2.15.0, but you have keras 3.3.3 which is incompatible.\r\n",
      "tensorstore 0.1.60 requires ml-dtypes>=0.3.1, but you have ml-dtypes 0.2.0 which is incompatible.\r\n",
      "woodwork 0.31.0 requires numpy>=1.25.0, but you have numpy 1.23.5 which is incompatible.\r\n",
      "xarray 2024.5.0 requires packaging>=23.1, but you have packaging 21.3 which is incompatible.\u001b[0m\u001b[31m\r\n",
      "\u001b[0mSuccessfully installed numpy-1.23.5 thop-0.1.1.post2209072238\r\n"
     ]
    }
   ],
   "source": [
    "!cd /kaggle/working/yolov7\n",
    "!pip install -r /kaggle/working/yolov7/requirements.txt"
   ]
  },
  {
   "cell_type": "code",
   "execution_count": 3,
   "id": "75c69d4c",
   "metadata": {
    "_cell_guid": "b1076dfc-b9ad-4769-8c92-a6c4dae69d19",
    "_uuid": "8f2839f25d086af736a60e9eeb907d3b93b6e0e5",
    "execution": {
     "iopub.execute_input": "2024-06-08T10:36:56.744158Z",
     "iopub.status.busy": "2024-06-08T10:36:56.743422Z",
     "iopub.status.idle": "2024-06-08T10:36:56.748971Z",
     "shell.execute_reply": "2024-06-08T10:36:56.748169Z"
    },
    "papermill": {
     "duration": 0.014743,
     "end_time": "2024-06-08T10:36:56.750810",
     "exception": false,
     "start_time": "2024-06-08T10:36:56.736067",
     "status": "completed"
    },
    "tags": []
   },
   "outputs": [],
   "source": [
    "data_yaml = \"\"\"\n",
    "train: /kaggle/input/yodol-dataset/home/alexis/Desktop/YODOL/images/train\n",
    "val: /kaggle/input/yodol-dataset/home/alexis/Desktop/YODOL/images/val\n",
    "\n",
    "nc: 1  # number of classes\n",
    "names: ['dolphin']  # class names\n",
    "\"\"\"\n",
    "\n",
    "with open('ndd20.yaml', 'w') as f:\n",
    "    f.write(data_yaml)"
   ]
  },
  {
   "cell_type": "code",
   "execution_count": 4,
   "id": "331769a7",
   "metadata": {
    "execution": {
     "iopub.execute_input": "2024-06-08T10:36:56.764393Z",
     "iopub.status.busy": "2024-06-08T10:36:56.764151Z",
     "iopub.status.idle": "2024-06-08T10:36:57.794222Z",
     "shell.execute_reply": "2024-06-08T10:36:57.793342Z"
    },
    "papermill": {
     "duration": 1.039115,
     "end_time": "2024-06-08T10:36:57.796345",
     "exception": false,
     "start_time": "2024-06-08T10:36:56.757230",
     "status": "completed"
    },
    "tags": []
   },
   "outputs": [
    {
     "name": "stdout",
     "output_type": "stream",
     "text": [
      "python: can't open file '/kaggle/working/train.py': [Errno 2] No such file or directory\r\n"
     ]
    }
   ],
   "source": [
    "# Train the model\n",
    "!python train.py --img 640 --batch 16 --epochs 20 --data ndd20.yaml --cfg cfg/training/yolov7.yaml --weights 'yolov7.pt' --name yolov7-custom\n"
   ]
  },
  {
   "cell_type": "code",
   "execution_count": 5,
   "id": "b9efc650",
   "metadata": {
    "execution": {
     "iopub.execute_input": "2024-06-08T10:36:57.810921Z",
     "iopub.status.busy": "2024-06-08T10:36:57.810610Z",
     "iopub.status.idle": "2024-06-08T10:36:58.854344Z",
     "shell.execute_reply": "2024-06-08T10:36:58.853428Z"
    },
    "papermill": {
     "duration": 1.053622,
     "end_time": "2024-06-08T10:36:58.856660",
     "exception": false,
     "start_time": "2024-06-08T10:36:57.803038",
     "status": "completed"
    },
    "tags": []
   },
   "outputs": [
    {
     "name": "stdout",
     "output_type": "stream",
     "text": [
      "python: can't open file '/kaggle/working/val.py': [Errno 2] No such file or directory\r\n"
     ]
    }
   ],
   "source": [
    "# Evaluate the model\n",
    "!python val.py --data ndd20.yaml --weights runs/train/exp/weights/best.pt"
   ]
  },
  {
   "cell_type": "code",
   "execution_count": null,
   "id": "53c281da",
   "metadata": {
    "papermill": {
     "duration": 0.006313,
     "end_time": "2024-06-08T10:36:58.869847",
     "exception": false,
     "start_time": "2024-06-08T10:36:58.863534",
     "status": "completed"
    },
    "tags": []
   },
   "outputs": [],
   "source": []
  }
 ],
 "metadata": {
  "kaggle": {
   "accelerator": "nvidiaTeslaT4",
   "dataSources": [
    {
     "datasetId": 5169597,
     "sourceId": 8633340,
     "sourceType": "datasetVersion"
    }
   ],
   "dockerImageVersionId": 30733,
   "isGpuEnabled": true,
   "isInternetEnabled": true,
   "language": "python",
   "sourceType": "notebook"
  },
  "kernelspec": {
   "display_name": "Python 3",
   "language": "python",
   "name": "python3"
  },
  "language_info": {
   "codemirror_mode": {
    "name": "ipython",
    "version": 3
   },
   "file_extension": ".py",
   "mimetype": "text/x-python",
   "name": "python",
   "nbconvert_exporter": "python",
   "pygments_lexer": "ipython3",
   "version": "3.10.13"
  },
  "papermill": {
   "default_parameters": {},
   "duration": 28.35492,
   "end_time": "2024-06-08T10:36:59.094580",
   "environment_variables": {},
   "exception": null,
   "input_path": "__notebook__.ipynb",
   "output_path": "__notebook__.ipynb",
   "parameters": {},
   "start_time": "2024-06-08T10:36:30.739660",
   "version": "2.5.0"
  }
 },
 "nbformat": 4,
 "nbformat_minor": 5
}
