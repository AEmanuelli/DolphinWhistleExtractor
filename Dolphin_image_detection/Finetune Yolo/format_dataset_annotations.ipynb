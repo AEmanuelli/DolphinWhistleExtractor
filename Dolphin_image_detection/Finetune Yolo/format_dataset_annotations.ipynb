{
 "cells": [
  {
   "cell_type": "code",
   "execution_count": 1,
   "metadata": {},
   "outputs": [
    {
     "data": {
      "text/plain": [
       "['annotations.xml']"
      ]
     },
     "execution_count": 1,
     "metadata": {},
     "output_type": "execute_result"
    }
   ],
   "source": [
    "import zipfile\n",
    "import os\n",
    "\n",
    "# Définir le chemin du fichier ZIP et le répertoire de destination\n",
    "zip_file_path = '/home/alexis/Downloads/NEWCAM.zip'\n",
    "extract_to_path = '/home/alexis/Downloads/NEWCAM'\n",
    "\n",
    "# Décompresser le fichier ZIP\n",
    "with zipfile.ZipFile(zip_file_path, 'r') as zip_ref:\n",
    "    zip_ref.extractall(extract_to_path)\n",
    "\n",
    "# Lister les fichiers extraits\n",
    "extracted_files = os.listdir(extract_to_path)\n",
    "extracted_files\n",
    "\n",
    "\n"
   ]
  },
  {
   "cell_type": "code",
   "execution_count": 2,
   "metadata": {},
   "outputs": [
    {
     "name": "stdout",
     "output_type": "stream",
     "text": [
      "/home/alexis/Downloads/NEWCAM/annotations.xml\n"
     ]
    }
   ],
   "source": [
    "# Explorer le contenu extrait\n",
    "for root, dirs, files in os.walk(extract_to_path):\n",
    "    for file in files:\n",
    "        print(os.path.join(root, file))\n"
   ]
  },
  {
   "cell_type": "code",
   "execution_count": 3,
   "metadata": {},
   "outputs": [
    {
     "data": {
      "text/plain": [
       "['version',\n",
       " 'meta',\n",
       " 'track',\n",
       " 'track',\n",
       " 'track',\n",
       " 'track',\n",
       " 'track',\n",
       " 'track',\n",
       " 'track',\n",
       " 'track',\n",
       " 'track',\n",
       " 'track',\n",
       " 'track',\n",
       " 'track',\n",
       " 'track',\n",
       " 'track',\n",
       " 'track',\n",
       " 'track',\n",
       " 'track',\n",
       " 'track',\n",
       " 'track',\n",
       " 'track',\n",
       " 'track',\n",
       " 'track',\n",
       " 'track',\n",
       " 'track',\n",
       " 'track',\n",
       " 'track',\n",
       " 'track',\n",
       " 'track',\n",
       " 'track',\n",
       " 'track',\n",
       " 'track',\n",
       " 'track',\n",
       " 'track',\n",
       " 'track',\n",
       " 'track',\n",
       " 'track',\n",
       " 'track',\n",
       " 'track',\n",
       " 'track',\n",
       " 'track',\n",
       " 'track',\n",
       " 'track',\n",
       " 'track',\n",
       " 'track',\n",
       " 'track']"
      ]
     },
     "execution_count": 3,
     "metadata": {},
     "output_type": "execute_result"
    }
   ],
   "source": [
    "import xml.etree.ElementTree as ET\n",
    "\n",
    "# Chemin du fichier XML\n",
    "xml_file_path = '/home/alexis/Downloads/NEWCAM/annotations.xml'\n",
    "\n",
    "# Lire et analyser le fichier XML\n",
    "tree = ET.parse(xml_file_path)\n",
    "root = tree.getroot()\n",
    "\n",
    "# Explorer la structure du fichier XML\n",
    "structure = []\n",
    "for child in root:\n",
    "    structure.append(child.tag)\n",
    "\n",
    "structure"
   ]
  },
  {
   "cell_type": "code",
   "execution_count": 4,
   "metadata": {},
   "outputs": [
    {
     "data": {
      "text/plain": [
       "[{'frame_id': 0,\n",
       "  'label': 'diver',\n",
       "  'x_center': 372.675,\n",
       "  'y_center': 125.515,\n",
       "  'width': 184.11,\n",
       "  'height': 109.03},\n",
       " {'frame_id': 1,\n",
       "  'label': 'diver',\n",
       "  'x_center': 373.0,\n",
       "  'y_center': 124.5,\n",
       "  'width': 184.0,\n",
       "  'height': 109.0},\n",
       " {'frame_id': 2,\n",
       "  'label': 'diver',\n",
       "  'x_center': 372.0,\n",
       "  'y_center': 122.5,\n",
       "  'width': 184.0,\n",
       "  'height': 109.0},\n",
       " {'frame_id': 3,\n",
       "  'label': 'diver',\n",
       "  'x_center': 371.0,\n",
       "  'y_center': 120.5,\n",
       "  'width': 184.0,\n",
       "  'height': 109.0},\n",
       " {'frame_id': 4,\n",
       "  'label': 'diver',\n",
       "  'x_center': 370.0,\n",
       "  'y_center': 120.5,\n",
       "  'width': 184.0,\n",
       "  'height': 109.0}]"
      ]
     },
     "execution_count": 4,
     "metadata": {},
     "output_type": "execute_result"
    }
   ],
   "source": [
    "# Lire et analyser les annotations du fichier XML\n",
    "annotations = []\n",
    "\n",
    "for track in root.findall('track'):\n",
    "    label = track.attrib['label']\n",
    "    for box in track.findall('box'):\n",
    "        frame_id = int(box.attrib['frame'])\n",
    "        xtl = float(box.attrib['xtl'])\n",
    "        ytl = float(box.attrib['ytl'])\n",
    "        xbr = float(box.attrib['xbr'])\n",
    "        ybr = float(box.attrib['ybr'])\n",
    "        width = xbr - xtl\n",
    "        height = ybr - ytl\n",
    "        x_center = xtl + width / 2\n",
    "        y_center = ytl + height / 2\n",
    "\n",
    "        annotation = {\n",
    "            'frame_id': frame_id,\n",
    "            'label': label,\n",
    "            'x_center': x_center,\n",
    "            'y_center': y_center,\n",
    "            'width': width,\n",
    "            'height': height\n",
    "        }\n",
    "        annotations.append(annotation)\n",
    "\n",
    "annotations[:5]  # Afficher les premières annotations pour vérification\n"
   ]
  },
  {
   "cell_type": "code",
   "execution_count": 33,
   "metadata": {},
   "outputs": [
    {
     "name": "stdout",
     "output_type": "stream",
     "text": [
      "Annotations YOLO créées avec succès.\n"
     ]
    }
   ],
   "source": [
    "import os\n",
    "import xml.etree.ElementTree as ET\n",
    "\n",
    "# Définir les chemins\n",
    "xml_file_path = '/home/alexis/Downloads/NEWCAM/annotations.xml'\n",
    "yolo_annotations_path = '/home/alexis/Downloads/NEWCAM/labels'\n",
    "os.makedirs(yolo_annotations_path, exist_ok=True)\n",
    "\n",
    "# Lire et analyser les annotations du fichier XML\n",
    "annotations = []\n",
    "tree = ET.parse(xml_file_path)\n",
    "root = tree.getroot()\n",
    "\n",
    "for track in root.findall('track'):\n",
    "    label = track.attrib['label']\n",
    "    for box in track.findall('box'):\n",
    "        frame_id = int(box.attrib['frame'])\n",
    "        xtl = float(box.attrib['xtl'])\n",
    "        ytl = float(box.attrib['ytl'])\n",
    "        xbr = float(box.attrib['xbr'])\n",
    "        ybr = float(box.attrib['ybr'])\n",
    "\n",
    "        # Check if the coordinates are within the valid range\n",
    "        if xtl < 0 or ytl < 0 or xbr < 0 or ybr < 0:\n",
    "            continue\n",
    "\n",
    "        width = xbr - xtl\n",
    "        height = ybr - ytl\n",
    "        x_center = xtl + width / 2\n",
    "        y_center = ytl + height / 2\n",
    "\n",
    "        annotation = {\n",
    "            'frame_id': frame_id,\n",
    "            'label': label,\n",
    "            'x_center': x_center,\n",
    "            'y_center': y_center,\n",
    "            'width': width,\n",
    "            'height': height\n",
    "        }\n",
    "        annotations.append(annotation)\n",
    "\n",
    "# Mapper les étiquettes à des IDs numériques\n",
    "label_map = {'diver': 0, 'fish': 1, 'dolphin': 2}  # Add 'dolphin' label to the label_map dictionary\n",
    "\n",
    "# Créer les fichiers d'annotation YOLO\n",
    "for annotation in annotations:\n",
    "    frame_id = annotation['frame_id']\n",
    "    label_id = label_map[annotation['label']]\n",
    "    x_center = annotation['x_center']\n",
    "    y_center = annotation['y_center']\n",
    "    width = annotation['width']\n",
    "    height = annotation['height']\n",
    "\n",
    "    # Nom du fichier d'annotation\n",
    "    annotation_file = os.path.join(yolo_annotations_path, f'{frame_id:06d}.txt')\n",
    "\n",
    "    # Écrire l'annotation dans le fichier\n",
    "    with open(annotation_file, 'a') as f:\n",
    "        f.write(f'{label_id} {x_center} {y_center} {width} {height}\\n')\n",
    "\n",
    "print(\"Annotations YOLO créées avec succès.\")\n"
   ]
  },
  {
   "cell_type": "code",
   "execution_count": 36,
   "metadata": {},
   "outputs": [
    {
     "data": {
      "text/plain": [
       "9898"
      ]
     },
     "execution_count": 36,
     "metadata": {},
     "output_type": "execute_result"
    }
   ],
   "source": [
    "import os\n",
    "\n",
    "# Directory path\n",
    "labels_folder = '/home/alexis/Desktop/New_caméra/Custom_dataset/train/labels/'\n",
    "\n",
    "# Get the list of files in the directory\n",
    "files = os.listdir(labels_folder)\n",
    "\n",
    "# Sort the files in ascending order\n",
    "files.sort(reverse = False)\n",
    "\n",
    "# Get the label value from the last file in the directory\n",
    "label_value = int(files[-1].split('.')[0].zfill(6))\n",
    "label_value\n"
   ]
  },
  {
   "cell_type": "code",
   "execution_count": 25,
   "metadata": {},
   "outputs": [
    {
     "ename": "KeyboardInterrupt",
     "evalue": "",
     "output_type": "error",
     "traceback": [
      "\u001b[0;31m---------------------------------------------------------------------------\u001b[0m",
      "\u001b[0;31mKeyboardInterrupt\u001b[0m                         Traceback (most recent call last)",
      "Cell \u001b[0;32mIn[25], line 24\u001b[0m\n\u001b[1;32m     21\u001b[0m \u001b[38;5;28;01mwhile\u001b[39;00m success:\n\u001b[1;32m     22\u001b[0m     \u001b[38;5;66;03m# Save the frame as a JPG image\u001b[39;00m\n\u001b[1;32m     23\u001b[0m     frame_path \u001b[38;5;241m=\u001b[39m os\u001b[38;5;241m.\u001b[39mpath\u001b[38;5;241m.\u001b[39mjoin(output_dir, \u001b[38;5;124mf\u001b[39m\u001b[38;5;124m'\u001b[39m\u001b[38;5;132;01m{\u001b[39;00mframe_count\u001b[38;5;132;01m:\u001b[39;00m\u001b[38;5;124m06d\u001b[39m\u001b[38;5;132;01m}\u001b[39;00m\u001b[38;5;124m.jpg\u001b[39m\u001b[38;5;124m'\u001b[39m)\n\u001b[0;32m---> 24\u001b[0m     \u001b[43mcv2\u001b[49m\u001b[38;5;241;43m.\u001b[39;49m\u001b[43mimwrite\u001b[49m\u001b[43m(\u001b[49m\u001b[43mframe_path\u001b[49m\u001b[43m,\u001b[49m\u001b[43m \u001b[49m\u001b[43mframe\u001b[49m\u001b[43m)\u001b[49m\n\u001b[1;32m     26\u001b[0m     \u001b[38;5;66;03m# Read the next frame\u001b[39;00m\n\u001b[1;32m     27\u001b[0m     success, frame \u001b[38;5;241m=\u001b[39m video\u001b[38;5;241m.\u001b[39mread()\n",
      "\u001b[0;31mKeyboardInterrupt\u001b[0m: "
     ]
    }
   ],
   "source": [
    "import cv2\n",
    "import os\n",
    "\n",
    "# Path to the video file\n",
    "video_path = '/home/alexis/Desktop/New_caméra/Exp_01_Jun_2024_1145_cam1-4.mp4'\n",
    "\n",
    "# Directory to save the extracted frames\n",
    "output_dir = '/home/alexis/Desktop/New_caméra/frames/'\n",
    "\n",
    "# Create the output directory if it doesn't exist\n",
    "os.makedirs(output_dir, exist_ok=True)\n",
    "\n",
    "# Open the video file\n",
    "video = cv2.VideoCapture(video_path)\n",
    "\n",
    "# Read the first frame\n",
    "success, frame = video.read()\n",
    "frame_count = 0\n",
    "\n",
    "# Loop through the video frames\n",
    "while success and frame_count <= label_value:\n",
    "    # Save the frame as a JPG image\n",
    "    frame_path = os.path.join(output_dir, f'{frame_count:06d}.jpg')\n",
    "    cv2.imwrite(frame_path, frame)\n",
    "\n",
    "    # Read the next frame\n",
    "    success, frame = video.read()\n",
    "    frame_count += 1\n",
    "\n",
    "# Release the video file\n",
    "video.release()\n"
   ]
  },
  {
   "cell_type": "code",
   "execution_count": 37,
   "metadata": {},
   "outputs": [
    {
     "name": "stdout",
     "output_type": "stream",
     "text": [
      "134 images moved from train to val directory.\n"
     ]
    }
   ],
   "source": [
    "import os\n",
    "import random\n",
    "import shutil\n",
    "\n",
    "# Define the paths\n",
    "train_images_dir = '/home/alexis/Desktop/New_caméra/Custom_dataset/train/images'\n",
    "train_labels_dir = '/home/alexis/Desktop/New_caméra/Custom_dataset/train/labels'\n",
    "val_images_dir = '/home/alexis/Desktop/New_caméra/Custom_dataset/val/images'\n",
    "val_labels_dir = '/home/alexis/Desktop/New_caméra/Custom_dataset/val/labels'\n",
    "\n",
    "# Create the val directories if they don't exist\n",
    "os.makedirs(val_images_dir, exist_ok=True)\n",
    "os.makedirs(val_labels_dir, exist_ok=True)\n",
    "\n",
    "# Get the list of image files in the train directory\n",
    "labels_files = os.listdir(train_labels_dir)\n",
    "\n",
    "# Calculate the number of images to move\n",
    "num_images_to_move = int(len(labels_files) * 0.05)\n",
    "\n",
    "# Randomly select the images to move\n",
    "labels_to_move = random.sample(labels_files, num_images_to_move)\n",
    "\n",
    "# Move the selected images and labels to the val directory\n",
    "for label_file in labels_to_move:\n",
    "    # Move the image file\n",
    "    image_file = label_file.replace('.txt', '.jpg')\n",
    "    src_image_path = os.path.join(train_images_dir, image_file)\n",
    "    dest_image_path = os.path.join(val_images_dir, image_file)\n",
    "    shutil.move(src_image_path, dest_image_path)\n",
    "\n",
    "    # Move the corresponding label file\n",
    "    src_label_path = os.path.join(train_labels_dir, label_file)\n",
    "    dest_label_path = os.path.join(val_labels_dir, label_file)\n",
    "    shutil.move(src_label_path, dest_label_path)\n",
    "\n",
    "# Print the number of images moved\n",
    "print(f\"{num_images_to_move} images and labels moved from train to val directory.\")\n"
   ]
  },
  {
   "cell_type": "code",
   "execution_count": 31,
   "metadata": {},
   "outputs": [],
   "source": [
    "# Delete the images without labels\n",
    "for image_file in os.listdir(train_images_dir):\n",
    "    label_file = image_file.replace('.jpg', '.txt')\n",
    "    if label_file not in labels_files:\n",
    "        image_path = os.path.join(train_images_dir, image_file)\n",
    "        os.remove(image_path)"
   ]
  },
  {
   "cell_type": "code",
   "execution_count": 38,
   "metadata": {},
   "outputs": [],
   "source": [
    "import yaml\n",
    "\n",
    "# Define the classes\n",
    "classes = ['dolphin', 'diver', 'fish']\n",
    "\n",
    "# Define the data dictionary\n",
    "data = {\n",
    "    'train': '/home/alexis/Desktop/New_caméra/Custom_dataset/train/images',\n",
    "    'val': '/home/alexis/Desktop/New_caméra/Custom_dataset/val/images',\n",
    "    'nc': len(classes),\n",
    "    'names': classes\n",
    "}\n",
    "\n",
    "# Write the data dictionary to the data.yaml file\n",
    "with open('/home/alexis/Desktop/New_caméra/Custom_dataset/data.yaml', 'w') as f:\n",
    "    yaml.dump(data, f)\n"
   ]
  },
  {
   "cell_type": "code",
   "execution_count": null,
   "metadata": {},
   "outputs": [],
   "source": []
  }
 ],
 "metadata": {
  "kernelspec": {
   "display_name": "base",
   "language": "python",
   "name": "python3"
  },
  "language_info": {
   "codemirror_mode": {
    "name": "ipython",
    "version": 3
   },
   "file_extension": ".py",
   "mimetype": "text/x-python",
   "name": "python",
   "nbconvert_exporter": "python",
   "pygments_lexer": "ipython3",
   "version": "3.11.5"
  }
 },
 "nbformat": 4,
 "nbformat_minor": 2
}
