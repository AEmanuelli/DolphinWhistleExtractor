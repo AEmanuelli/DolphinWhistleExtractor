{
 "cells": [
  {
   "cell_type": "markdown",
   "id": "5fddb46b",
   "metadata": {},
   "source": [
    "cf : https://www.kaggle.com/alexisemanuelli/fine-tune"
   ]
  },
  {
   "cell_type": "code",
   "execution_count": 9,
   "id": "be04f986",
   "metadata": {
    "_cell_guid": "b1076dfc-b9ad-4769-8c92-a6c4dae69d19",
    "_uuid": "8f2839f25d086af736a60e9eeb907d3b93b6e0e5",
    "execution": {
     "iopub.execute_input": "2024-05-16T10:09:38.269456Z",
     "iopub.status.busy": "2024-05-16T10:09:38.268415Z",
     "iopub.status.idle": "2024-05-16T10:10:11.619866Z",
     "shell.execute_reply": "2024-05-16T10:10:11.618868Z"
    },
    "papermill": {
     "duration": 33.359517,
     "end_time": "2024-05-16T10:10:11.622528",
     "exception": false,
     "start_time": "2024-05-16T10:09:38.263011",
     "status": "completed"
    },
    "tags": []
   },
   "outputs": [
    {
     "name": "stdout",
     "output_type": "stream",
     "text": [
      "Requirement already satisfied: keras==2.15.0 in /export/home1/users/zfne/emanuell/Documents/GitHub/Dolphins/.conda/lib/python3.9/site-packages (2.15.0)\n",
      "Requirement already satisfied: plotly in /export/home1/users/zfne/emanuell/Documents/GitHub/Dolphins/.conda/lib/python3.9/site-packages (5.22.0)\n",
      "Collecting optuna\n",
      "  Downloading optuna-3.6.1-py3-none-any.whl.metadata (17 kB)\n",
      "Requirement already satisfied: tenacity>=6.2.0 in /export/home1/users/zfne/emanuell/Documents/GitHub/Dolphins/.conda/lib/python3.9/site-packages (from plotly) (8.4.1)\n",
      "Requirement already satisfied: packaging in /export/home1/users/zfne/emanuell/Documents/GitHub/Dolphins/.conda/lib/python3.9/site-packages (from plotly) (23.2)\n",
      "Collecting alembic>=1.5.0 (from optuna)\n",
      "  Downloading alembic-1.13.1-py3-none-any.whl.metadata (7.4 kB)\n",
      "Collecting colorlog (from optuna)\n",
      "  Downloading colorlog-6.8.2-py3-none-any.whl.metadata (10 kB)\n",
      "Requirement already satisfied: numpy in /export/home1/users/zfne/emanuell/Documents/GitHub/Dolphins/.conda/lib/python3.9/site-packages (from optuna) (1.26.4)\n",
      "Collecting sqlalchemy>=1.3.0 (from optuna)\n",
      "  Downloading SQLAlchemy-2.0.31-cp39-cp39-manylinux_2_17_x86_64.manylinux2014_x86_64.whl.metadata (9.6 kB)\n",
      "Requirement already satisfied: tqdm in /export/home1/users/zfne/emanuell/Documents/GitHub/Dolphins/.conda/lib/python3.9/site-packages (from optuna) (4.65.0)\n",
      "Requirement already satisfied: PyYAML in /export/home1/users/zfne/emanuell/Documents/GitHub/Dolphins/.conda/lib/python3.9/site-packages (from optuna) (6.0.1)\n",
      "Collecting Mako (from alembic>=1.5.0->optuna)\n",
      "  Downloading Mako-1.3.5-py3-none-any.whl.metadata (2.9 kB)\n",
      "Requirement already satisfied: typing-extensions>=4 in /export/home1/users/zfne/emanuell/Documents/GitHub/Dolphins/.conda/lib/python3.9/site-packages (from alembic>=1.5.0->optuna) (4.9.0)\n",
      "Collecting greenlet!=0.4.17 (from sqlalchemy>=1.3.0->optuna)\n",
      "  Downloading greenlet-3.0.3-cp39-cp39-manylinux_2_24_x86_64.manylinux_2_28_x86_64.whl.metadata (3.8 kB)\n",
      "Requirement already satisfied: MarkupSafe>=0.9.2 in /export/home1/users/zfne/emanuell/Documents/GitHub/Dolphins/.conda/lib/python3.9/site-packages (from Mako->alembic>=1.5.0->optuna) (2.1.5)\n",
      "Downloading optuna-3.6.1-py3-none-any.whl (380 kB)\n",
      "\u001b[2K   \u001b[90m━━━━━━━━━━━━━━━━━━━━━━━━━━━━━━━━━━━━━━━━\u001b[0m \u001b[32m380.1/380.1 kB\u001b[0m \u001b[31m9.8 MB/s\u001b[0m eta \u001b[36m0:00:00\u001b[0m:00:01\u001b[0m\n",
      "\u001b[?25hDownloading alembic-1.13.1-py3-none-any.whl (233 kB)\n",
      "\u001b[2K   \u001b[90m━━━━━━━━━━━━━━━━━━━━━━━━━━━━━━━━━━━━━━━━\u001b[0m \u001b[32m233.4/233.4 kB\u001b[0m \u001b[31m14.0 MB/s\u001b[0m eta \u001b[36m0:00:00\u001b[0m\n",
      "\u001b[?25hDownloading SQLAlchemy-2.0.31-cp39-cp39-manylinux_2_17_x86_64.manylinux2014_x86_64.whl (3.1 MB)\n",
      "\u001b[2K   \u001b[90m━━━━━━━━━━━━━━━━━━━━━━━━━━━━━━━━━━━━━━━━\u001b[0m \u001b[32m3.1/3.1 MB\u001b[0m \u001b[31m62.4 MB/s\u001b[0m eta \u001b[36m0:00:00\u001b[0m:00:01\u001b[0m\n",
      "\u001b[?25hDownloading colorlog-6.8.2-py3-none-any.whl (11 kB)\n",
      "Downloading greenlet-3.0.3-cp39-cp39-manylinux_2_24_x86_64.manylinux_2_28_x86_64.whl (614 kB)\n",
      "\u001b[2K   \u001b[90m━━━━━━━━━━━━━━━━━━━━━━━━━━━━━━━━━━━━━━━━\u001b[0m \u001b[32m614.3/614.3 kB\u001b[0m \u001b[31m31.8 MB/s\u001b[0m eta \u001b[36m0:00:00\u001b[0m\n",
      "\u001b[?25hDownloading Mako-1.3.5-py3-none-any.whl (78 kB)\n",
      "\u001b[2K   \u001b[90m━━━━━━━━━━━━━━━━━━━━━━━━━━━━━━━━━━━━━━━━\u001b[0m \u001b[32m78.6/78.6 kB\u001b[0m \u001b[31m4.4 MB/s\u001b[0m eta \u001b[36m0:00:00\u001b[0m\n",
      "\u001b[?25hInstalling collected packages: Mako, greenlet, colorlog, sqlalchemy, alembic, optuna\n",
      "Successfully installed Mako-1.3.5 alembic-1.13.1 colorlog-6.8.2 greenlet-3.0.3 optuna-3.6.1 sqlalchemy-2.0.31\n"
     ]
    },
    {
     "name": "stderr",
     "output_type": "stream",
     "text": [
      "/export/home1/users/zfne/emanuell/Documents/GitHub/Dolphins/.conda/lib/python3.9/site-packages/tqdm/auto.py:21: TqdmWarning: IProgress not found. Please update jupyter and ipywidgets. See https://ipywidgets.readthedocs.io/en/stable/user_install.html\n",
      "  from .autonotebook import tqdm as notebook_tqdm\n"
     ]
    }
   ],
   "source": [
    "!pip install keras==2.15.0 plotly optuna\n",
    "#Import Os and Basis Libraries\n",
    "import cv2\n",
    "import os\n",
    "import pandas as pd\n",
    "import numpy as np\n",
    "import seaborn as sns\n",
    "import matplotlib.pyplot as plt \n",
    "import plotly.graph_objects as go\n",
    "#Matplot Images\n",
    "import matplotlib.image as mpimg\n",
    "# Tensflor and Keras Layer and Model and Optimize and Loss\n",
    "import tensorflow as tf\n",
    "from tensorflow import keras\n",
    "from keras import Sequential\n",
    "from keras.layers import *\n",
    "from tensorflow.keras.losses import BinaryCrossentropy\n",
    "# import tensorflow_hub as hub\n",
    "import optuna\n",
    "from tensorflow.keras.layers import GlobalAveragePooling2D, Dropout\n",
    "from tensorflow.keras.optimizers import Adam, RMSprop, SGD\n",
    "from tensorflow.keras.applications import ResNet50, InceptionV3, Xception, VGG16\n",
    "from tensorflow.keras.layers import Dense\n",
    "import numpy as np\n",
    "#Image Generator DataAugmentation\n",
    "from tensorflow.keras.preprocessing.image import ImageDataGenerator\n",
    "from keras.preprocessing import image\n",
    "#Early Stopping\n",
    "from tensorflow.keras.callbacks import EarlyStopping\n",
    "# Warnings Remove \n",
    "import warnings \n",
    "warnings.filterwarnings(\"ignore\")\n"
   ]
  },
  {
   "cell_type": "code",
   "execution_count": 10,
   "id": "7c11f2d1",
   "metadata": {
    "execution": {
     "iopub.execute_input": "2024-05-16T10:10:11.633529Z",
     "iopub.status.busy": "2024-05-16T10:10:11.632834Z",
     "iopub.status.idle": "2024-05-16T10:10:13.966171Z",
     "shell.execute_reply": "2024-05-16T10:10:13.964828Z"
    },
    "papermill": {
     "duration": 2.341372,
     "end_time": "2024-05-16T10:10:13.968693",
     "exception": false,
     "start_time": "2024-05-16T10:10:11.627321",
     "status": "completed"
    },
    "tags": []
   },
   "outputs": [
    {
     "name": "stdout",
     "output_type": "stream",
     "text": [
      "                          filename   category\n",
      "0  Exp_12_Jan_2020_1545pm-26.8.jpg  negatives\n",
      "1  Exp_23_Nov_2019_1145am-33.6.jpg  negatives\n",
      "2                2452.8-2453.2.jpg  negatives\n",
      "3                1594.0-1594.4.jpg  negatives\n",
      "4  Exp_14_Dec_2019_0845am-26.0.jpg  negatives\n"
     ]
    }
   ],
   "source": [
    "# Directory containing the \"Train\" folder\n",
    "directory = \"/media/DOLPHIN_ALEXIS/Analyses_alexis/Spectrograms_datasets/dataset/_last/tests\"\n",
    "\n",
    "# List of categories (subfolder names)\n",
    "categories = [\"negatives\", \"positives\"]\n",
    "\n",
    "# Initialize lists to store filenames and categories\n",
    "filenames = []\n",
    "category_labels = []\n",
    "\n",
    "# Iterate through the categories\n",
    "for category in categories:\n",
    "    # Path to the current category folder\n",
    "    category_folder = os.path.join(directory, \"train\", category)\n",
    "    # List all filenames in the category folder\n",
    "    category_filenames = os.listdir(category_folder)\n",
    "    # Append filenames and corresponding category labels\n",
    "    filenames.extend(category_filenames)\n",
    "    category_labels.extend([category] * len(category_filenames))\n",
    "\n",
    "# Create DataFrame\n",
    "df = pd.DataFrame({\n",
    "    'filename': filenames,\n",
    "    'category': category_labels\n",
    "})\n",
    "\n",
    "# Display the first few rows of the DataFrame\n",
    "print(df.head())"
   ]
  },
  {
   "cell_type": "code",
   "execution_count": 11,
   "id": "39d30ab3",
   "metadata": {
    "execution": {
     "iopub.execute_input": "2024-05-16T10:10:13.979580Z",
     "iopub.status.busy": "2024-05-16T10:10:13.979204Z",
     "iopub.status.idle": "2024-05-16T10:10:55.623969Z",
     "shell.execute_reply": "2024-05-16T10:10:55.623062Z"
    },
    "papermill": {
     "duration": 41.652999,
     "end_time": "2024-05-16T10:10:55.626311",
     "exception": false,
     "start_time": "2024-05-16T10:10:13.973312",
     "status": "completed"
    },
    "tags": []
   },
   "outputs": [
    {
     "name": "stdout",
     "output_type": "stream",
     "text": [
      "Augmented training Images:\n",
      "Found 26035 images belonging to 3 classes.\n",
      "Unchanged Validation Images:\n",
      "Found 6507 images belonging to 3 classes.\n",
      "Test Validation Images:\n",
      "Found 1021 images belonging to 3 classes.\n"
     ]
    }
   ],
   "source": [
    "#Data_Dir\n",
    "data_dir = '/media/DOLPHIN_ALEXIS/Analyses_alexis/Spectrograms_datasets/dataset/_last/tests/train/'\n",
    "\n",
    "# Defining data generator with Data Augmentation\n",
    "data_gen_augmented = ImageDataGenerator(rescale = 1/255., validation_split = 0.2)\n",
    "\n",
    "print('Augmented training Images:')\n",
    "train_ds = data_gen_augmented.flow_from_directory(data_dir, \n",
    "                                                              target_size = (224, 224), \n",
    "                                                              batch_size = 32,\n",
    "                                                              subset = 'training',\n",
    "                                                              class_mode = 'categorical')\n",
    "\n",
    "#Testing Augmented Data\n",
    "# Defining Validation_generator withour Data Augmentation\n",
    "data_gen = ImageDataGenerator(rescale = 1/255., validation_split = 0.2)\n",
    "\n",
    "print('Unchanged Validation Images:')\n",
    "validation_ds = data_gen.flow_from_directory(data_dir, \n",
    "                                        target_size = (224, 224), \n",
    "                                        batch_size = 32,\n",
    "                                        subset = 'validation',\n",
    "                                        class_mode = 'categorical')\n",
    "\n",
    "#Testing Augmented Data\n",
    "test_dir_path = \"/media/DOLPHIN_ALEXIS/Analyses_alexis/Spectrograms_datasets/dataset/_last/tests/test\"\n",
    "# Defining Validation_generator withour Data Augmentation\n",
    "data_test_gen = ImageDataGenerator(rescale = 1/255.)\n",
    "\n",
    "print('Test Validation Images:')\n",
    "test_ds = data_gen.flow_from_directory(test_dir_path, \n",
    "                                        target_size = (224, 224), \n",
    "                                        batch_size = 32,\n",
    "                                        subset = 'validation',\n",
    "                                        class_mode = 'categorical')"
   ]
  },
  {
   "cell_type": "code",
   "execution_count": null,
   "id": "8eeab20b",
   "metadata": {
    "papermill": {
     "duration": 0.004793,
     "end_time": "2024-05-16T10:10:55.636208",
     "exception": false,
     "start_time": "2024-05-16T10:10:55.631415",
     "status": "completed"
    },
    "tags": []
   },
   "outputs": [],
   "source": []
  },
  {
   "cell_type": "code",
   "execution_count": 4,
   "id": "11f73ec2",
   "metadata": {
    "execution": {
     "iopub.execute_input": "2024-05-16T10:10:55.647558Z",
     "iopub.status.busy": "2024-05-16T10:10:55.647212Z",
     "iopub.status.idle": "2024-05-16T10:10:55.655547Z",
     "shell.execute_reply": "2024-05-16T10:10:55.654653Z"
    },
    "papermill": {
     "duration": 0.017022,
     "end_time": "2024-05-16T10:10:55.657989",
     "exception": false,
     "start_time": "2024-05-16T10:10:55.640967",
     "status": "completed"
    },
    "tags": []
   },
   "outputs": [
    {
     "data": {
      "text/plain": [
       "'history = model_paper.fit(train_ds,\\n                        epochs= 15,\\n                        steps_per_epoch = len(train_ds),\\n                        validation_data = validation_ds,\\n                        validation_steps = len(validation_ds),\\n                        callbacks = early_stopping)'"
      ]
     },
     "execution_count": 4,
     "metadata": {},
     "output_type": "execute_result"
    }
   ],
   "source": [
    "model_paper = tf.keras.models.load_model(\"/kaggle/input/cnn_v1_xception/tensorflow2/initial_model/1/model_vgg.h5\") #tf & keras ==2.15.0\n",
    "\n",
    "#Early_Stopping\n",
    "early_stopping = EarlyStopping(\n",
    "    min_delta=0.001, # minimium amount of change to count as an improvement\n",
    "    patience=5, \n",
    "    restore_best_weights=True,\n",
    ")\n",
    "\n",
    "#Fitting Model\n",
    "history = model_paper.fit(train_ds,\n",
    "                        epochs= 15,\n",
    "                        steps_per_epoch = len(train_ds),\n",
    "                        validation_data = validation_ds,\n",
    "                        validation_steps = len(validation_ds),\n",
    "                        callbacks = early_stopping)"
   ]
  }
 ],
 "metadata": {
  "kaggle": {
   "accelerator": "gpu",
   "dataSources": [
    {
     "datasetId": 4911901,
     "sourceId": 8272602,
     "sourceType": "datasetVersion"
    },
    {
     "sourceId": 177975177,
     "sourceType": "kernelVersion"
    },
    {
     "modelInstanceId": 38718,
     "sourceId": 46185,
     "sourceType": "modelInstanceVersion"
    },
    {
     "modelInstanceId": 40717,
     "sourceId": 48683,
     "sourceType": "modelInstanceVersion"
    },
    {
     "modelInstanceId": 38718,
     "sourceId": 48685,
     "sourceType": "modelInstanceVersion"
    },
    {
     "sourceId": 177978025,
     "sourceType": "kernelVersion"
    }
   ],
   "dockerImageVersionId": 30699,
   "isGpuEnabled": true,
   "isInternetEnabled": true,
   "language": "python",
   "sourceType": "notebook"
  },
  "kernelspec": {
   "display_name": "Python 3",
   "language": "python",
   "name": "python3"
  },
  "language_info": {
   "codemirror_mode": {
    "name": "ipython",
    "version": 3
   },
   "file_extension": ".py",
   "mimetype": "text/x-python",
   "name": "python",
   "nbconvert_exporter": "python",
   "pygments_lexer": "ipython3",
   "version": "3.9.18"
  },
  "papermill": {
   "default_parameters": {},
   "duration": 2244.36078,
   "end_time": "2024-05-16T10:46:59.464093",
   "environment_variables": {},
   "exception": null,
   "input_path": "__notebook__.ipynb",
   "output_path": "__notebook__.ipynb",
   "parameters": {},
   "start_time": "2024-05-16T10:09:35.103313",
   "version": "2.5.0"
  }
 },
 "nbformat": 4,
 "nbformat_minor": 5
}
